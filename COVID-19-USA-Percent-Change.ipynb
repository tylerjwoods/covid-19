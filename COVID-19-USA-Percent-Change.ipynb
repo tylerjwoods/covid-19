{
 "cells": [
  {
   "cell_type": "markdown",
   "metadata": {},
   "source": [
    "# COVID-19 EDA and Hypothesis Testing"
   ]
  },
  {
   "cell_type": "markdown",
   "metadata": {},
   "source": [
    "### Data is sourced from:\n",
    "\n",
    "https://github.com/nytimes/covid-19-data\n",
    "\n",
    "### Other sources:\n",
    "\n",
    "https://covidtracking.com/data/state/california/\n",
    "https://covidtracking.com/api\n",
    "https://covid19.healthdata.org/projections"
   ]
  },
  {
   "cell_type": "code",
   "execution_count": 1,
   "metadata": {},
   "outputs": [],
   "source": [
    "import math\n",
    "\n",
    "%matplotlib inline\n",
    "import matplotlib.pyplot as plt\n",
    "\n",
    "import numpy as np\n",
    "import pandas as pd\n",
    "import scipy.stats as stats\n",
    "import random\n",
    "from datetime import datetime,date"
   ]
  },
  {
   "cell_type": "code",
   "execution_count": 2,
   "metadata": {},
   "outputs": [],
   "source": [
    "plt.style.use('fivethirtyeight')"
   ]
  },
  {
   "cell_type": "markdown",
   "metadata": {},
   "source": [
    "## Explore and clean the data"
   ]
  },
  {
   "cell_type": "markdown",
   "metadata": {},
   "source": [
    "#### Load the data into a Pandas DataFrame"
   ]
  },
  {
   "cell_type": "code",
   "execution_count": 3,
   "metadata": {},
   "outputs": [],
   "source": [
    "us_covid = pd.read_csv('../datasets/covid-19-data/us-states.csv')\n",
    "us_covid_cases = us_covid[['date', 'state', 'cases']].copy()\n",
    "dates = us_covid['date'].unique()\n",
    "states = us_covid['state'].unique()"
   ]
  },
  {
   "cell_type": "markdown",
   "metadata": {},
   "source": [
    "#### Use a pivot table to move the data into columns/rows."
   ]
  },
  {
   "cell_type": "code",
   "execution_count": 4,
   "metadata": {},
   "outputs": [],
   "source": [
    "us_covid_cases_table = us_covid_cases.pivot(index='state', columns='date', values='cases')\n",
    "us_covid_cases_table.fillna(0, inplace=True)"
   ]
  },
  {
   "cell_type": "markdown",
   "metadata": {},
   "source": [
    "#### Convert column names to date time objects."
   ]
  },
  {
   "cell_type": "code",
   "execution_count": 5,
   "metadata": {},
   "outputs": [],
   "source": [
    "us_covid_cases_table.columns = pd.to_datetime(us_covid_cases_table.columns)"
   ]
  },
  {
   "cell_type": "markdown",
   "metadata": {},
   "source": [
    "#### Display table for number of cases"
   ]
  },
  {
   "cell_type": "code",
   "execution_count": 6,
   "metadata": {},
   "outputs": [
    {
     "data": {
      "text/html": [
       "<div>\n",
       "<style scoped>\n",
       "    .dataframe tbody tr th:only-of-type {\n",
       "        vertical-align: middle;\n",
       "    }\n",
       "\n",
       "    .dataframe tbody tr th {\n",
       "        vertical-align: top;\n",
       "    }\n",
       "\n",
       "    .dataframe thead th {\n",
       "        text-align: right;\n",
       "    }\n",
       "</style>\n",
       "<table border=\"1\" class=\"dataframe\">\n",
       "  <thead>\n",
       "    <tr style=\"text-align: right;\">\n",
       "      <th>date</th>\n",
       "      <th>2020-01-21</th>\n",
       "      <th>2020-01-22</th>\n",
       "      <th>2020-01-23</th>\n",
       "      <th>2020-01-24</th>\n",
       "      <th>2020-01-25</th>\n",
       "      <th>2020-01-26</th>\n",
       "      <th>2020-01-27</th>\n",
       "      <th>2020-01-28</th>\n",
       "      <th>2020-01-29</th>\n",
       "      <th>2020-01-30</th>\n",
       "      <th>...</th>\n",
       "      <th>2020-03-27</th>\n",
       "      <th>2020-03-28</th>\n",
       "      <th>2020-03-29</th>\n",
       "      <th>2020-03-30</th>\n",
       "      <th>2020-03-31</th>\n",
       "      <th>2020-04-01</th>\n",
       "      <th>2020-04-02</th>\n",
       "      <th>2020-04-03</th>\n",
       "      <th>2020-04-04</th>\n",
       "      <th>2020-04-05</th>\n",
       "    </tr>\n",
       "    <tr>\n",
       "      <th>state</th>\n",
       "      <th></th>\n",
       "      <th></th>\n",
       "      <th></th>\n",
       "      <th></th>\n",
       "      <th></th>\n",
       "      <th></th>\n",
       "      <th></th>\n",
       "      <th></th>\n",
       "      <th></th>\n",
       "      <th></th>\n",
       "      <th></th>\n",
       "      <th></th>\n",
       "      <th></th>\n",
       "      <th></th>\n",
       "      <th></th>\n",
       "      <th></th>\n",
       "      <th></th>\n",
       "      <th></th>\n",
       "      <th></th>\n",
       "      <th></th>\n",
       "      <th></th>\n",
       "    </tr>\n",
       "  </thead>\n",
       "  <tbody>\n",
       "    <tr>\n",
       "      <td>Alabama</td>\n",
       "      <td>0.0</td>\n",
       "      <td>0.0</td>\n",
       "      <td>0.0</td>\n",
       "      <td>0.0</td>\n",
       "      <td>0.0</td>\n",
       "      <td>0.0</td>\n",
       "      <td>0.0</td>\n",
       "      <td>0.0</td>\n",
       "      <td>0.0</td>\n",
       "      <td>0.0</td>\n",
       "      <td>...</td>\n",
       "      <td>639.0</td>\n",
       "      <td>720.0</td>\n",
       "      <td>830.0</td>\n",
       "      <td>947.0</td>\n",
       "      <td>999.0</td>\n",
       "      <td>1106.0</td>\n",
       "      <td>1270.0</td>\n",
       "      <td>1535.0</td>\n",
       "      <td>1633.0</td>\n",
       "      <td>1841.0</td>\n",
       "    </tr>\n",
       "    <tr>\n",
       "      <td>Alaska</td>\n",
       "      <td>0.0</td>\n",
       "      <td>0.0</td>\n",
       "      <td>0.0</td>\n",
       "      <td>0.0</td>\n",
       "      <td>0.0</td>\n",
       "      <td>0.0</td>\n",
       "      <td>0.0</td>\n",
       "      <td>0.0</td>\n",
       "      <td>0.0</td>\n",
       "      <td>0.0</td>\n",
       "      <td>...</td>\n",
       "      <td>85.0</td>\n",
       "      <td>102.0</td>\n",
       "      <td>114.0</td>\n",
       "      <td>119.0</td>\n",
       "      <td>133.0</td>\n",
       "      <td>143.0</td>\n",
       "      <td>146.0</td>\n",
       "      <td>156.0</td>\n",
       "      <td>169.0</td>\n",
       "      <td>185.0</td>\n",
       "    </tr>\n",
       "    <tr>\n",
       "      <td>Arizona</td>\n",
       "      <td>0.0</td>\n",
       "      <td>0.0</td>\n",
       "      <td>0.0</td>\n",
       "      <td>0.0</td>\n",
       "      <td>0.0</td>\n",
       "      <td>1.0</td>\n",
       "      <td>1.0</td>\n",
       "      <td>1.0</td>\n",
       "      <td>1.0</td>\n",
       "      <td>1.0</td>\n",
       "      <td>...</td>\n",
       "      <td>665.0</td>\n",
       "      <td>773.0</td>\n",
       "      <td>929.0</td>\n",
       "      <td>1169.0</td>\n",
       "      <td>1298.0</td>\n",
       "      <td>1413.0</td>\n",
       "      <td>1600.0</td>\n",
       "      <td>1769.0</td>\n",
       "      <td>2019.0</td>\n",
       "      <td>2269.0</td>\n",
       "    </tr>\n",
       "    <tr>\n",
       "      <td>Arkansas</td>\n",
       "      <td>0.0</td>\n",
       "      <td>0.0</td>\n",
       "      <td>0.0</td>\n",
       "      <td>0.0</td>\n",
       "      <td>0.0</td>\n",
       "      <td>0.0</td>\n",
       "      <td>0.0</td>\n",
       "      <td>0.0</td>\n",
       "      <td>0.0</td>\n",
       "      <td>0.0</td>\n",
       "      <td>...</td>\n",
       "      <td>386.0</td>\n",
       "      <td>409.0</td>\n",
       "      <td>449.0</td>\n",
       "      <td>508.0</td>\n",
       "      <td>564.0</td>\n",
       "      <td>624.0</td>\n",
       "      <td>683.0</td>\n",
       "      <td>738.0</td>\n",
       "      <td>743.0</td>\n",
       "      <td>853.0</td>\n",
       "    </tr>\n",
       "    <tr>\n",
       "      <td>California</td>\n",
       "      <td>0.0</td>\n",
       "      <td>0.0</td>\n",
       "      <td>0.0</td>\n",
       "      <td>0.0</td>\n",
       "      <td>1.0</td>\n",
       "      <td>2.0</td>\n",
       "      <td>2.0</td>\n",
       "      <td>2.0</td>\n",
       "      <td>2.0</td>\n",
       "      <td>2.0</td>\n",
       "      <td>...</td>\n",
       "      <td>4914.0</td>\n",
       "      <td>5565.0</td>\n",
       "      <td>6266.0</td>\n",
       "      <td>7421.0</td>\n",
       "      <td>8582.0</td>\n",
       "      <td>9816.0</td>\n",
       "      <td>10995.0</td>\n",
       "      <td>12569.0</td>\n",
       "      <td>13796.0</td>\n",
       "      <td>15076.0</td>\n",
       "    </tr>\n",
       "  </tbody>\n",
       "</table>\n",
       "<p>5 rows × 76 columns</p>\n",
       "</div>"
      ],
      "text/plain": [
       "date        2020-01-21  2020-01-22  2020-01-23  2020-01-24  2020-01-25  \\\n",
       "state                                                                    \n",
       "Alabama            0.0         0.0         0.0         0.0         0.0   \n",
       "Alaska             0.0         0.0         0.0         0.0         0.0   \n",
       "Arizona            0.0         0.0         0.0         0.0         0.0   \n",
       "Arkansas           0.0         0.0         0.0         0.0         0.0   \n",
       "California         0.0         0.0         0.0         0.0         1.0   \n",
       "\n",
       "date        2020-01-26  2020-01-27  2020-01-28  2020-01-29  2020-01-30  ...  \\\n",
       "state                                                                   ...   \n",
       "Alabama            0.0         0.0         0.0         0.0         0.0  ...   \n",
       "Alaska             0.0         0.0         0.0         0.0         0.0  ...   \n",
       "Arizona            1.0         1.0         1.0         1.0         1.0  ...   \n",
       "Arkansas           0.0         0.0         0.0         0.0         0.0  ...   \n",
       "California         2.0         2.0         2.0         2.0         2.0  ...   \n",
       "\n",
       "date        2020-03-27  2020-03-28  2020-03-29  2020-03-30  2020-03-31  \\\n",
       "state                                                                    \n",
       "Alabama          639.0       720.0       830.0       947.0       999.0   \n",
       "Alaska            85.0       102.0       114.0       119.0       133.0   \n",
       "Arizona          665.0       773.0       929.0      1169.0      1298.0   \n",
       "Arkansas         386.0       409.0       449.0       508.0       564.0   \n",
       "California      4914.0      5565.0      6266.0      7421.0      8582.0   \n",
       "\n",
       "date        2020-04-01  2020-04-02  2020-04-03  2020-04-04  2020-04-05  \n",
       "state                                                                   \n",
       "Alabama         1106.0      1270.0      1535.0      1633.0      1841.0  \n",
       "Alaska           143.0       146.0       156.0       169.0       185.0  \n",
       "Arizona         1413.0      1600.0      1769.0      2019.0      2269.0  \n",
       "Arkansas         624.0       683.0       738.0       743.0       853.0  \n",
       "California      9816.0     10995.0     12569.0     13796.0     15076.0  \n",
       "\n",
       "[5 rows x 76 columns]"
      ]
     },
     "execution_count": 6,
     "metadata": {},
     "output_type": "execute_result"
    }
   ],
   "source": [
    "us_covid_cases_table.head()"
   ]
  },
  {
   "cell_type": "markdown",
   "metadata": {},
   "source": [
    "## For this study, I'm only considering percent increases once the state has over 10 cases. \n",
    "\n",
    "That way, I am getting rid of the bias of those first couple of days (e.g., when a state goes from 1 case to 2 cases, it's a 100% increase)."
   ]
  },
  {
   "cell_type": "code",
   "execution_count": 7,
   "metadata": {},
   "outputs": [],
   "source": [
    "us_covid_cases_table[us_covid_cases_table < 10] = 0"
   ]
  },
  {
   "cell_type": "markdown",
   "metadata": {},
   "source": [
    "#### Create empty array for the daily increases percent = (that days # - prev days #) / prev day"
   ]
  },
  {
   "cell_type": "code",
   "execution_count": 8,
   "metadata": {},
   "outputs": [],
   "source": [
    "us_covid_increases = pd.DataFrame(index=us_covid_cases_table.index.values, \n",
    "                                  columns=us_covid_cases_table.columns.values)\n",
    "us_covid_increases.fillna(0, inplace=True)\n"
   ]
  },
  {
   "cell_type": "markdown",
   "metadata": {},
   "source": [
    "#### Fill empty array with the daily increases from the us_covid_cases_table data"
   ]
  },
  {
   "cell_type": "code",
   "execution_count": 9,
   "metadata": {},
   "outputs": [],
   "source": [
    "for each_date in us_covid_increases.columns.values[1:]:\n",
    "    us_covid_increases[each_date] = ((us_covid_cases_table[each_date] -\n",
    "                                         us_covid_cases_table[each_date - pd.Timedelta(days=1)]) / \n",
    "                                         us_covid_cases_table[each_date - pd.Timedelta(days=1)]) * 100"
   ]
  },
  {
   "cell_type": "markdown",
   "metadata": {},
   "source": [
    "#### Display table for percent increases"
   ]
  },
  {
   "cell_type": "code",
   "execution_count": 10,
   "metadata": {},
   "outputs": [],
   "source": [
    "#us_covid_increases"
   ]
  },
  {
   "cell_type": "markdown",
   "metadata": {},
   "source": [
    "#### Change 'NaN' and 'inf' values to 0 \n",
    "\n",
    "NaN occurs when there were no record cases on that day and the day before (e.g., 0/0)\n",
    "\n",
    "Inf occurs when there was a case reported on that day but none on the day before (e.g., 1/0)"
   ]
  },
  {
   "cell_type": "code",
   "execution_count": 11,
   "metadata": {},
   "outputs": [],
   "source": [
    "us_covid_increases.fillna(0, inplace=True)\n",
    "us_covid_increases.replace(np.inf, 0, inplace=True)"
   ]
  },
  {
   "cell_type": "code",
   "execution_count": 12,
   "metadata": {},
   "outputs": [
    {
     "data": {
      "text/html": [
       "<div>\n",
       "<style scoped>\n",
       "    .dataframe tbody tr th:only-of-type {\n",
       "        vertical-align: middle;\n",
       "    }\n",
       "\n",
       "    .dataframe tbody tr th {\n",
       "        vertical-align: top;\n",
       "    }\n",
       "\n",
       "    .dataframe thead th {\n",
       "        text-align: right;\n",
       "    }\n",
       "</style>\n",
       "<table border=\"1\" class=\"dataframe\">\n",
       "  <thead>\n",
       "    <tr style=\"text-align: right;\">\n",
       "      <th></th>\n",
       "      <th>2020-01-21</th>\n",
       "      <th>2020-01-22</th>\n",
       "      <th>2020-01-23</th>\n",
       "      <th>2020-01-24</th>\n",
       "      <th>2020-01-25</th>\n",
       "      <th>2020-01-26</th>\n",
       "      <th>2020-01-27</th>\n",
       "      <th>2020-01-28</th>\n",
       "      <th>2020-01-29</th>\n",
       "      <th>2020-01-30</th>\n",
       "      <th>...</th>\n",
       "      <th>2020-03-27</th>\n",
       "      <th>2020-03-28</th>\n",
       "      <th>2020-03-29</th>\n",
       "      <th>2020-03-30</th>\n",
       "      <th>2020-03-31</th>\n",
       "      <th>2020-04-01</th>\n",
       "      <th>2020-04-02</th>\n",
       "      <th>2020-04-03</th>\n",
       "      <th>2020-04-04</th>\n",
       "      <th>2020-04-05</th>\n",
       "    </tr>\n",
       "  </thead>\n",
       "  <tbody>\n",
       "    <tr>\n",
       "      <td>Alabama</td>\n",
       "      <td>0</td>\n",
       "      <td>0.0</td>\n",
       "      <td>0.0</td>\n",
       "      <td>0.0</td>\n",
       "      <td>0.0</td>\n",
       "      <td>0.0</td>\n",
       "      <td>0.0</td>\n",
       "      <td>0.0</td>\n",
       "      <td>0.0</td>\n",
       "      <td>0.0</td>\n",
       "      <td>...</td>\n",
       "      <td>18.773234</td>\n",
       "      <td>12.676056</td>\n",
       "      <td>15.277778</td>\n",
       "      <td>14.096386</td>\n",
       "      <td>5.491024</td>\n",
       "      <td>10.710711</td>\n",
       "      <td>14.828210</td>\n",
       "      <td>20.866142</td>\n",
       "      <td>6.384365</td>\n",
       "      <td>12.737293</td>\n",
       "    </tr>\n",
       "    <tr>\n",
       "      <td>Alaska</td>\n",
       "      <td>0</td>\n",
       "      <td>0.0</td>\n",
       "      <td>0.0</td>\n",
       "      <td>0.0</td>\n",
       "      <td>0.0</td>\n",
       "      <td>0.0</td>\n",
       "      <td>0.0</td>\n",
       "      <td>0.0</td>\n",
       "      <td>0.0</td>\n",
       "      <td>0.0</td>\n",
       "      <td>...</td>\n",
       "      <td>23.188406</td>\n",
       "      <td>20.000000</td>\n",
       "      <td>11.764706</td>\n",
       "      <td>4.385965</td>\n",
       "      <td>11.764706</td>\n",
       "      <td>7.518797</td>\n",
       "      <td>2.097902</td>\n",
       "      <td>6.849315</td>\n",
       "      <td>8.333333</td>\n",
       "      <td>9.467456</td>\n",
       "    </tr>\n",
       "    <tr>\n",
       "      <td>Arizona</td>\n",
       "      <td>0</td>\n",
       "      <td>0.0</td>\n",
       "      <td>0.0</td>\n",
       "      <td>0.0</td>\n",
       "      <td>0.0</td>\n",
       "      <td>0.0</td>\n",
       "      <td>0.0</td>\n",
       "      <td>0.0</td>\n",
       "      <td>0.0</td>\n",
       "      <td>0.0</td>\n",
       "      <td>...</td>\n",
       "      <td>30.905512</td>\n",
       "      <td>16.240602</td>\n",
       "      <td>20.181113</td>\n",
       "      <td>25.834230</td>\n",
       "      <td>11.035073</td>\n",
       "      <td>8.859784</td>\n",
       "      <td>13.234253</td>\n",
       "      <td>10.562500</td>\n",
       "      <td>14.132278</td>\n",
       "      <td>12.382368</td>\n",
       "    </tr>\n",
       "    <tr>\n",
       "      <td>Arkansas</td>\n",
       "      <td>0</td>\n",
       "      <td>0.0</td>\n",
       "      <td>0.0</td>\n",
       "      <td>0.0</td>\n",
       "      <td>0.0</td>\n",
       "      <td>0.0</td>\n",
       "      <td>0.0</td>\n",
       "      <td>0.0</td>\n",
       "      <td>0.0</td>\n",
       "      <td>0.0</td>\n",
       "      <td>...</td>\n",
       "      <td>9.971510</td>\n",
       "      <td>5.958549</td>\n",
       "      <td>9.779951</td>\n",
       "      <td>13.140312</td>\n",
       "      <td>11.023622</td>\n",
       "      <td>10.638298</td>\n",
       "      <td>9.455128</td>\n",
       "      <td>8.052709</td>\n",
       "      <td>0.677507</td>\n",
       "      <td>14.804845</td>\n",
       "    </tr>\n",
       "    <tr>\n",
       "      <td>California</td>\n",
       "      <td>0</td>\n",
       "      <td>0.0</td>\n",
       "      <td>0.0</td>\n",
       "      <td>0.0</td>\n",
       "      <td>0.0</td>\n",
       "      <td>0.0</td>\n",
       "      <td>0.0</td>\n",
       "      <td>0.0</td>\n",
       "      <td>0.0</td>\n",
       "      <td>0.0</td>\n",
       "      <td>...</td>\n",
       "      <td>21.034483</td>\n",
       "      <td>13.247863</td>\n",
       "      <td>12.596586</td>\n",
       "      <td>18.432812</td>\n",
       "      <td>15.644792</td>\n",
       "      <td>14.378933</td>\n",
       "      <td>12.011002</td>\n",
       "      <td>14.315598</td>\n",
       "      <td>9.762113</td>\n",
       "      <td>9.278052</td>\n",
       "    </tr>\n",
       "  </tbody>\n",
       "</table>\n",
       "<p>5 rows × 76 columns</p>\n",
       "</div>"
      ],
      "text/plain": [
       "            2020-01-21  2020-01-22  2020-01-23  2020-01-24  2020-01-25  \\\n",
       "Alabama              0         0.0         0.0         0.0         0.0   \n",
       "Alaska               0         0.0         0.0         0.0         0.0   \n",
       "Arizona              0         0.0         0.0         0.0         0.0   \n",
       "Arkansas             0         0.0         0.0         0.0         0.0   \n",
       "California           0         0.0         0.0         0.0         0.0   \n",
       "\n",
       "            2020-01-26  2020-01-27  2020-01-28  2020-01-29  2020-01-30  ...  \\\n",
       "Alabama            0.0         0.0         0.0         0.0         0.0  ...   \n",
       "Alaska             0.0         0.0         0.0         0.0         0.0  ...   \n",
       "Arizona            0.0         0.0         0.0         0.0         0.0  ...   \n",
       "Arkansas           0.0         0.0         0.0         0.0         0.0  ...   \n",
       "California         0.0         0.0         0.0         0.0         0.0  ...   \n",
       "\n",
       "            2020-03-27  2020-03-28  2020-03-29  2020-03-30  2020-03-31  \\\n",
       "Alabama      18.773234   12.676056   15.277778   14.096386    5.491024   \n",
       "Alaska       23.188406   20.000000   11.764706    4.385965   11.764706   \n",
       "Arizona      30.905512   16.240602   20.181113   25.834230   11.035073   \n",
       "Arkansas      9.971510    5.958549    9.779951   13.140312   11.023622   \n",
       "California   21.034483   13.247863   12.596586   18.432812   15.644792   \n",
       "\n",
       "            2020-04-01  2020-04-02  2020-04-03  2020-04-04  2020-04-05  \n",
       "Alabama      10.710711   14.828210   20.866142    6.384365   12.737293  \n",
       "Alaska        7.518797    2.097902    6.849315    8.333333    9.467456  \n",
       "Arizona       8.859784   13.234253   10.562500   14.132278   12.382368  \n",
       "Arkansas     10.638298    9.455128    8.052709    0.677507   14.804845  \n",
       "California   14.378933   12.011002   14.315598    9.762113    9.278052  \n",
       "\n",
       "[5 rows x 76 columns]"
      ]
     },
     "execution_count": 12,
     "metadata": {},
     "output_type": "execute_result"
    }
   ],
   "source": [
    "us_covid_increases.head()"
   ]
  },
  {
   "cell_type": "markdown",
   "metadata": {},
   "source": [
    "#### Reset the index for the table to be named 'state'"
   ]
  },
  {
   "cell_type": "code",
   "execution_count": 13,
   "metadata": {},
   "outputs": [],
   "source": [
    "us_covid_increases.index.name = 'state'"
   ]
  },
  {
   "cell_type": "code",
   "execution_count": 14,
   "metadata": {},
   "outputs": [
    {
     "data": {
      "text/html": [
       "<div>\n",
       "<style scoped>\n",
       "    .dataframe tbody tr th:only-of-type {\n",
       "        vertical-align: middle;\n",
       "    }\n",
       "\n",
       "    .dataframe tbody tr th {\n",
       "        vertical-align: top;\n",
       "    }\n",
       "\n",
       "    .dataframe thead th {\n",
       "        text-align: right;\n",
       "    }\n",
       "</style>\n",
       "<table border=\"1\" class=\"dataframe\">\n",
       "  <thead>\n",
       "    <tr style=\"text-align: right;\">\n",
       "      <th></th>\n",
       "      <th>2020-01-21</th>\n",
       "      <th>2020-01-22</th>\n",
       "      <th>2020-01-23</th>\n",
       "      <th>2020-01-24</th>\n",
       "      <th>2020-01-25</th>\n",
       "      <th>2020-01-26</th>\n",
       "      <th>2020-01-27</th>\n",
       "      <th>2020-01-28</th>\n",
       "      <th>2020-01-29</th>\n",
       "      <th>2020-01-30</th>\n",
       "      <th>...</th>\n",
       "      <th>2020-03-27</th>\n",
       "      <th>2020-03-28</th>\n",
       "      <th>2020-03-29</th>\n",
       "      <th>2020-03-30</th>\n",
       "      <th>2020-03-31</th>\n",
       "      <th>2020-04-01</th>\n",
       "      <th>2020-04-02</th>\n",
       "      <th>2020-04-03</th>\n",
       "      <th>2020-04-04</th>\n",
       "      <th>2020-04-05</th>\n",
       "    </tr>\n",
       "    <tr>\n",
       "      <th>state</th>\n",
       "      <th></th>\n",
       "      <th></th>\n",
       "      <th></th>\n",
       "      <th></th>\n",
       "      <th></th>\n",
       "      <th></th>\n",
       "      <th></th>\n",
       "      <th></th>\n",
       "      <th></th>\n",
       "      <th></th>\n",
       "      <th></th>\n",
       "      <th></th>\n",
       "      <th></th>\n",
       "      <th></th>\n",
       "      <th></th>\n",
       "      <th></th>\n",
       "      <th></th>\n",
       "      <th></th>\n",
       "      <th></th>\n",
       "      <th></th>\n",
       "      <th></th>\n",
       "    </tr>\n",
       "  </thead>\n",
       "  <tbody>\n",
       "    <tr>\n",
       "      <td>Alabama</td>\n",
       "      <td>0</td>\n",
       "      <td>0.0</td>\n",
       "      <td>0.0</td>\n",
       "      <td>0.0</td>\n",
       "      <td>0.0</td>\n",
       "      <td>0.0</td>\n",
       "      <td>0.0</td>\n",
       "      <td>0.0</td>\n",
       "      <td>0.0</td>\n",
       "      <td>0.0</td>\n",
       "      <td>...</td>\n",
       "      <td>18.773234</td>\n",
       "      <td>12.676056</td>\n",
       "      <td>15.277778</td>\n",
       "      <td>14.096386</td>\n",
       "      <td>5.491024</td>\n",
       "      <td>10.710711</td>\n",
       "      <td>14.828210</td>\n",
       "      <td>20.866142</td>\n",
       "      <td>6.384365</td>\n",
       "      <td>12.737293</td>\n",
       "    </tr>\n",
       "    <tr>\n",
       "      <td>Alaska</td>\n",
       "      <td>0</td>\n",
       "      <td>0.0</td>\n",
       "      <td>0.0</td>\n",
       "      <td>0.0</td>\n",
       "      <td>0.0</td>\n",
       "      <td>0.0</td>\n",
       "      <td>0.0</td>\n",
       "      <td>0.0</td>\n",
       "      <td>0.0</td>\n",
       "      <td>0.0</td>\n",
       "      <td>...</td>\n",
       "      <td>23.188406</td>\n",
       "      <td>20.000000</td>\n",
       "      <td>11.764706</td>\n",
       "      <td>4.385965</td>\n",
       "      <td>11.764706</td>\n",
       "      <td>7.518797</td>\n",
       "      <td>2.097902</td>\n",
       "      <td>6.849315</td>\n",
       "      <td>8.333333</td>\n",
       "      <td>9.467456</td>\n",
       "    </tr>\n",
       "    <tr>\n",
       "      <td>Arizona</td>\n",
       "      <td>0</td>\n",
       "      <td>0.0</td>\n",
       "      <td>0.0</td>\n",
       "      <td>0.0</td>\n",
       "      <td>0.0</td>\n",
       "      <td>0.0</td>\n",
       "      <td>0.0</td>\n",
       "      <td>0.0</td>\n",
       "      <td>0.0</td>\n",
       "      <td>0.0</td>\n",
       "      <td>...</td>\n",
       "      <td>30.905512</td>\n",
       "      <td>16.240602</td>\n",
       "      <td>20.181113</td>\n",
       "      <td>25.834230</td>\n",
       "      <td>11.035073</td>\n",
       "      <td>8.859784</td>\n",
       "      <td>13.234253</td>\n",
       "      <td>10.562500</td>\n",
       "      <td>14.132278</td>\n",
       "      <td>12.382368</td>\n",
       "    </tr>\n",
       "    <tr>\n",
       "      <td>Arkansas</td>\n",
       "      <td>0</td>\n",
       "      <td>0.0</td>\n",
       "      <td>0.0</td>\n",
       "      <td>0.0</td>\n",
       "      <td>0.0</td>\n",
       "      <td>0.0</td>\n",
       "      <td>0.0</td>\n",
       "      <td>0.0</td>\n",
       "      <td>0.0</td>\n",
       "      <td>0.0</td>\n",
       "      <td>...</td>\n",
       "      <td>9.971510</td>\n",
       "      <td>5.958549</td>\n",
       "      <td>9.779951</td>\n",
       "      <td>13.140312</td>\n",
       "      <td>11.023622</td>\n",
       "      <td>10.638298</td>\n",
       "      <td>9.455128</td>\n",
       "      <td>8.052709</td>\n",
       "      <td>0.677507</td>\n",
       "      <td>14.804845</td>\n",
       "    </tr>\n",
       "    <tr>\n",
       "      <td>California</td>\n",
       "      <td>0</td>\n",
       "      <td>0.0</td>\n",
       "      <td>0.0</td>\n",
       "      <td>0.0</td>\n",
       "      <td>0.0</td>\n",
       "      <td>0.0</td>\n",
       "      <td>0.0</td>\n",
       "      <td>0.0</td>\n",
       "      <td>0.0</td>\n",
       "      <td>0.0</td>\n",
       "      <td>...</td>\n",
       "      <td>21.034483</td>\n",
       "      <td>13.247863</td>\n",
       "      <td>12.596586</td>\n",
       "      <td>18.432812</td>\n",
       "      <td>15.644792</td>\n",
       "      <td>14.378933</td>\n",
       "      <td>12.011002</td>\n",
       "      <td>14.315598</td>\n",
       "      <td>9.762113</td>\n",
       "      <td>9.278052</td>\n",
       "    </tr>\n",
       "  </tbody>\n",
       "</table>\n",
       "<p>5 rows × 76 columns</p>\n",
       "</div>"
      ],
      "text/plain": [
       "            2020-01-21  2020-01-22  2020-01-23  2020-01-24  2020-01-25  \\\n",
       "state                                                                    \n",
       "Alabama              0         0.0         0.0         0.0         0.0   \n",
       "Alaska               0         0.0         0.0         0.0         0.0   \n",
       "Arizona              0         0.0         0.0         0.0         0.0   \n",
       "Arkansas             0         0.0         0.0         0.0         0.0   \n",
       "California           0         0.0         0.0         0.0         0.0   \n",
       "\n",
       "            2020-01-26  2020-01-27  2020-01-28  2020-01-29  2020-01-30  ...  \\\n",
       "state                                                                   ...   \n",
       "Alabama            0.0         0.0         0.0         0.0         0.0  ...   \n",
       "Alaska             0.0         0.0         0.0         0.0         0.0  ...   \n",
       "Arizona            0.0         0.0         0.0         0.0         0.0  ...   \n",
       "Arkansas           0.0         0.0         0.0         0.0         0.0  ...   \n",
       "California         0.0         0.0         0.0         0.0         0.0  ...   \n",
       "\n",
       "            2020-03-27  2020-03-28  2020-03-29  2020-03-30  2020-03-31  \\\n",
       "state                                                                    \n",
       "Alabama      18.773234   12.676056   15.277778   14.096386    5.491024   \n",
       "Alaska       23.188406   20.000000   11.764706    4.385965   11.764706   \n",
       "Arizona      30.905512   16.240602   20.181113   25.834230   11.035073   \n",
       "Arkansas      9.971510    5.958549    9.779951   13.140312   11.023622   \n",
       "California   21.034483   13.247863   12.596586   18.432812   15.644792   \n",
       "\n",
       "            2020-04-01  2020-04-02  2020-04-03  2020-04-04  2020-04-05  \n",
       "state                                                                   \n",
       "Alabama      10.710711   14.828210   20.866142    6.384365   12.737293  \n",
       "Alaska        7.518797    2.097902    6.849315    8.333333    9.467456  \n",
       "Arizona       8.859784   13.234253   10.562500   14.132278   12.382368  \n",
       "Arkansas     10.638298    9.455128    8.052709    0.677507   14.804845  \n",
       "California   14.378933   12.011002   14.315598    9.762113    9.278052  \n",
       "\n",
       "[5 rows x 76 columns]"
      ]
     },
     "execution_count": 14,
     "metadata": {},
     "output_type": "execute_result"
    }
   ],
   "source": [
    "us_covid_increases.head()"
   ]
  },
  {
   "cell_type": "markdown",
   "metadata": {},
   "source": [
    "#### Make the columns for dates be datetime objects."
   ]
  },
  {
   "cell_type": "code",
   "execution_count": 16,
   "metadata": {},
   "outputs": [
    {
     "data": {
      "text/plain": [
       "numpy.datetime64"
      ]
     },
     "execution_count": 16,
     "metadata": {},
     "output_type": "execute_result"
    }
   ],
   "source": [
    "type(us_covid_increases.columns.values[0])"
   ]
  },
  {
   "cell_type": "code",
   "execution_count": 17,
   "metadata": {},
   "outputs": [
    {
     "data": {
      "text/plain": [
       "pandas._libs.tslibs.timestamps.Timestamp"
      ]
     },
     "execution_count": 17,
     "metadata": {},
     "output_type": "execute_result"
    }
   ],
   "source": [
    "type(pd.to_datetime(us_covid_increases.columns.values[0]))"
   ]
  },
  {
   "cell_type": "code",
   "execution_count": 24,
   "metadata": {},
   "outputs": [
    {
     "data": {
      "text/plain": [
       "array(['2020-01-21T00:00:00.000000000', '2020-01-22T00:00:00.000000000',\n",
       "       '2020-01-23T00:00:00.000000000', '2020-01-24T00:00:00.000000000',\n",
       "       '2020-01-25T00:00:00.000000000', '2020-01-26T00:00:00.000000000',\n",
       "       '2020-01-27T00:00:00.000000000', '2020-01-28T00:00:00.000000000',\n",
       "       '2020-01-29T00:00:00.000000000', '2020-01-30T00:00:00.000000000',\n",
       "       '2020-01-31T00:00:00.000000000', '2020-02-01T00:00:00.000000000',\n",
       "       '2020-02-02T00:00:00.000000000', '2020-02-03T00:00:00.000000000',\n",
       "       '2020-02-04T00:00:00.000000000', '2020-02-05T00:00:00.000000000',\n",
       "       '2020-02-06T00:00:00.000000000', '2020-02-07T00:00:00.000000000',\n",
       "       '2020-02-08T00:00:00.000000000', '2020-02-09T00:00:00.000000000',\n",
       "       '2020-02-10T00:00:00.000000000', '2020-02-11T00:00:00.000000000',\n",
       "       '2020-02-12T00:00:00.000000000', '2020-02-13T00:00:00.000000000',\n",
       "       '2020-02-14T00:00:00.000000000', '2020-02-15T00:00:00.000000000',\n",
       "       '2020-02-16T00:00:00.000000000', '2020-02-17T00:00:00.000000000',\n",
       "       '2020-02-18T00:00:00.000000000', '2020-02-19T00:00:00.000000000',\n",
       "       '2020-02-20T00:00:00.000000000', '2020-02-21T00:00:00.000000000',\n",
       "       '2020-02-22T00:00:00.000000000', '2020-02-23T00:00:00.000000000',\n",
       "       '2020-02-24T00:00:00.000000000', '2020-02-25T00:00:00.000000000',\n",
       "       '2020-02-26T00:00:00.000000000', '2020-02-27T00:00:00.000000000',\n",
       "       '2020-02-28T00:00:00.000000000', '2020-02-29T00:00:00.000000000',\n",
       "       '2020-03-01T00:00:00.000000000', '2020-03-02T00:00:00.000000000',\n",
       "       '2020-03-03T00:00:00.000000000', '2020-03-04T00:00:00.000000000',\n",
       "       '2020-03-05T00:00:00.000000000', '2020-03-06T00:00:00.000000000',\n",
       "       '2020-03-07T00:00:00.000000000', '2020-03-08T00:00:00.000000000',\n",
       "       '2020-03-09T00:00:00.000000000', '2020-03-10T00:00:00.000000000',\n",
       "       '2020-03-11T00:00:00.000000000', '2020-03-12T00:00:00.000000000',\n",
       "       '2020-03-13T00:00:00.000000000', '2020-03-14T00:00:00.000000000',\n",
       "       '2020-03-15T00:00:00.000000000', '2020-03-16T00:00:00.000000000',\n",
       "       '2020-03-17T00:00:00.000000000', '2020-03-18T00:00:00.000000000',\n",
       "       '2020-03-19T00:00:00.000000000', '2020-03-20T00:00:00.000000000',\n",
       "       '2020-03-21T00:00:00.000000000', '2020-03-22T00:00:00.000000000',\n",
       "       '2020-03-23T00:00:00.000000000', '2020-03-24T00:00:00.000000000',\n",
       "       '2020-03-25T00:00:00.000000000', '2020-03-26T00:00:00.000000000',\n",
       "       '2020-03-27T00:00:00.000000000', '2020-03-28T00:00:00.000000000',\n",
       "       '2020-03-29T00:00:00.000000000', '2020-03-30T00:00:00.000000000',\n",
       "       '2020-03-31T00:00:00.000000000', '2020-04-01T00:00:00.000000000',\n",
       "       '2020-04-02T00:00:00.000000000', '2020-04-03T00:00:00.000000000',\n",
       "       '2020-04-04T00:00:00.000000000', '2020-04-05T00:00:00.000000000'],\n",
       "      dtype='datetime64[ns]')"
      ]
     },
     "execution_count": 24,
     "metadata": {},
     "output_type": "execute_result"
    }
   ],
   "source": [
    "us_covid_increases.columns.values\n"
   ]
  },
  {
   "cell_type": "code",
   "execution_count": 21,
   "metadata": {},
   "outputs": [
    {
     "data": {
      "text/plain": [
       "numpy.datetime64"
      ]
     },
     "execution_count": 21,
     "metadata": {},
     "output_type": "execute_result"
    }
   ],
   "source": [
    "type(us_covid_increases.columns.values[0])"
   ]
  },
  {
   "cell_type": "markdown",
   "metadata": {},
   "source": [
    "## Load in the dates for stay-at-home orders\n",
    "\n",
    "Dates were scrapped from https://www.kff.org/coronavirus-policy-watch/stay-at-home-orders-to-fight-covid19/"
   ]
  },
  {
   "cell_type": "code",
   "execution_count": null,
   "metadata": {},
   "outputs": [],
   "source": [
    "stay_home_dates = pd.read_pickle('../datasets/stay_home_orders_pickled.pkl')"
   ]
  },
  {
   "cell_type": "code",
   "execution_count": null,
   "metadata": {},
   "outputs": [],
   "source": [
    "stay_home_dates.head()"
   ]
  },
  {
   "cell_type": "markdown",
   "metadata": {},
   "source": [
    "## Merge the percent increases and the stay-at-home order date dataframes"
   ]
  },
  {
   "cell_type": "code",
   "execution_count": null,
   "metadata": {},
   "outputs": [],
   "source": [
    "merged = pd.merge(us_covid_increases, stay_home_dates, on='state')"
   ]
  },
  {
   "cell_type": "code",
   "execution_count": null,
   "metadata": {},
   "outputs": [],
   "source": [
    "merged.head()"
   ]
  },
  {
   "cell_type": "code",
   "execution_count": null,
   "metadata": {},
   "outputs": [],
   "source": [
    "type(merged.columns.values[0])"
   ]
  },
  {
   "cell_type": "code",
   "execution_count": null,
   "metadata": {},
   "outputs": [],
   "source": [
    "merged.columns.values[0]"
   ]
  },
  {
   "cell_type": "code",
   "execution_count": null,
   "metadata": {},
   "outputs": [],
   "source": [
    "merged.columns.values = pd.to_datetime(merged.columns.values).dt.date"
   ]
  },
  {
   "cell_type": "markdown",
   "metadata": {},
   "source": [
    "## Plot the Percent Increases Over Time"
   ]
  },
  {
   "cell_type": "code",
   "execution_count": null,
   "metadata": {},
   "outputs": [],
   "source": [
    "def plot_percent_changes(ax, data, dates, label):\n",
    "    '''Plots the dates/data on the given axis and applies a label to it.'''\n",
    "    data_ = data[data>0] #get only the data that is more than 0\n",
    "    dates_ = dates[data>0] #get only the dates that the data is more than 0\n",
    "    ax.plot(dates_, data_, label = label)"
   ]
  },
  {
   "cell_type": "code",
   "execution_count": null,
   "metadata": {},
   "outputs": [],
   "source": [
    "def generate_labels(ax):\n",
    "    ax.legend(fontsize=20)\n",
    "    fig.autofmt_xdate()\n",
    "    start, end = ax.get_xlim()\n",
    "    ax.xaxis.set_ticks(np.arange(start, end, 4));\n",
    "    ax.set_ylabel('Percent Change Per Day')\n",
    "    ax.yaxis.label.set_size(20)\n",
    "    ax.set_xlabel('Date')\n",
    "    ax.xaxis.label.set_size(20)"
   ]
  },
  {
   "cell_type": "code",
   "execution_count": null,
   "metadata": {},
   "outputs": [],
   "source": [
    "fig, ax = plt.subplots(figsize=(16,14))\n",
    "plot_percent_changes(ax, us_covid_increases.loc['Washington', :], \n",
    "                     us_covid_cases_table.columns.values, 'Washington')\n",
    "plot_percent_changes(ax, us_covid_increases.loc['New York', :], \n",
    "                     us_covid_cases_table.columns.values, 'New York')\n",
    "generate_labels(ax)"
   ]
  },
  {
   "cell_type": "code",
   "execution_count": null,
   "metadata": {},
   "outputs": [],
   "source": [
    "fig, ax = plt.subplots(figsize=(16,14))\n",
    "plot_percent_changes(ax, us_covid_increases.loc['Washington', :], \n",
    "                     us_covid_cases_table.columns.values, 'Washington')\n",
    "plot_percent_changes(ax, us_covid_increases.loc['New York', :], \n",
    "                     us_covid_cases_table.columns.values, 'New York')\n",
    "generate_labels(ax)"
   ]
  },
  {
   "cell_type": "code",
   "execution_count": null,
   "metadata": {},
   "outputs": [],
   "source": []
  }
 ],
 "metadata": {
  "kernelspec": {
   "display_name": "Python 3",
   "language": "python",
   "name": "python3"
  },
  "language_info": {
   "codemirror_mode": {
    "name": "ipython",
    "version": 3
   },
   "file_extension": ".py",
   "mimetype": "text/x-python",
   "name": "python",
   "nbconvert_exporter": "python",
   "pygments_lexer": "ipython3",
   "version": "3.7.4"
  }
 },
 "nbformat": 4,
 "nbformat_minor": 4
}
