{
 "cells": [
  {
   "cell_type": "markdown",
   "metadata": {},
   "source": [
    "# COVID-19 EDA and Hypothesis Testing"
   ]
  },
  {
   "cell_type": "markdown",
   "metadata": {},
   "source": [
    "### Data is sourced from:\n",
    "\n",
    "https://github.com/nytimes/covid-19-data\n",
    "\n",
    "### Other sources:\n",
    "\n",
    "https://covidtracking.com/data/state/california/\n",
    "https://covidtracking.com/api\n",
    "https://covid19.healthdata.org/projections"
   ]
  },
  {
   "cell_type": "code",
   "execution_count": 1,
   "metadata": {},
   "outputs": [],
   "source": [
    "import math\n",
    "\n",
    "%matplotlib inline\n",
    "import matplotlib.pyplot as plt\n",
    "\n",
    "import numpy as np\n",
    "import pandas as pd\n",
    "import scipy.stats as stats\n",
    "import random\n",
    "from datetime import datetime,date"
   ]
  },
  {
   "cell_type": "code",
   "execution_count": 2,
   "metadata": {},
   "outputs": [],
   "source": [
    "plt.style.use('fivethirtyeight')"
   ]
  },
  {
   "cell_type": "markdown",
   "metadata": {},
   "source": [
    "## Explore and clean the data"
   ]
  },
  {
   "cell_type": "markdown",
   "metadata": {},
   "source": [
    "#### Load the data into a Pandas DataFrame"
   ]
  },
  {
   "cell_type": "code",
   "execution_count": 3,
   "metadata": {},
   "outputs": [],
   "source": [
    "us_covid = pd.read_csv('../datasets/covid-19-data/us-states.csv')\n",
    "us_covid_cases = us_covid[['date', 'state', 'cases']].copy()\n",
    "dates = us_covid['date'].unique()\n",
    "states = us_covid['state'].unique()"
   ]
  },
  {
   "cell_type": "markdown",
   "metadata": {},
   "source": [
    "#### Use a pivot table to move the data into columns/rows."
   ]
  },
  {
   "cell_type": "code",
   "execution_count": 4,
   "metadata": {},
   "outputs": [],
   "source": [
    "us_covid_cases_table = us_covid_cases.pivot(index='state', columns='date', values='cases')\n",
    "us_covid_cases_table.fillna(0, inplace=True)"
   ]
  },
  {
   "cell_type": "code",
   "execution_count": 5,
   "metadata": {},
   "outputs": [
    {
     "data": {
      "text/html": [
       "<div>\n",
       "<style scoped>\n",
       "    .dataframe tbody tr th:only-of-type {\n",
       "        vertical-align: middle;\n",
       "    }\n",
       "\n",
       "    .dataframe tbody tr th {\n",
       "        vertical-align: top;\n",
       "    }\n",
       "\n",
       "    .dataframe thead th {\n",
       "        text-align: right;\n",
       "    }\n",
       "</style>\n",
       "<table border=\"1\" class=\"dataframe\">\n",
       "  <thead>\n",
       "    <tr style=\"text-align: right;\">\n",
       "      <th>date</th>\n",
       "      <th>2020-01-21</th>\n",
       "      <th>2020-01-22</th>\n",
       "      <th>2020-01-23</th>\n",
       "      <th>2020-01-24</th>\n",
       "      <th>2020-01-25</th>\n",
       "      <th>2020-01-26</th>\n",
       "      <th>2020-01-27</th>\n",
       "      <th>2020-01-28</th>\n",
       "      <th>2020-01-29</th>\n",
       "      <th>2020-01-30</th>\n",
       "      <th>...</th>\n",
       "      <th>2020-03-28</th>\n",
       "      <th>2020-03-29</th>\n",
       "      <th>2020-03-30</th>\n",
       "      <th>2020-03-31</th>\n",
       "      <th>2020-04-01</th>\n",
       "      <th>2020-04-02</th>\n",
       "      <th>2020-04-03</th>\n",
       "      <th>2020-04-04</th>\n",
       "      <th>2020-04-05</th>\n",
       "      <th>2020-04-06</th>\n",
       "    </tr>\n",
       "    <tr>\n",
       "      <th>state</th>\n",
       "      <th></th>\n",
       "      <th></th>\n",
       "      <th></th>\n",
       "      <th></th>\n",
       "      <th></th>\n",
       "      <th></th>\n",
       "      <th></th>\n",
       "      <th></th>\n",
       "      <th></th>\n",
       "      <th></th>\n",
       "      <th></th>\n",
       "      <th></th>\n",
       "      <th></th>\n",
       "      <th></th>\n",
       "      <th></th>\n",
       "      <th></th>\n",
       "      <th></th>\n",
       "      <th></th>\n",
       "      <th></th>\n",
       "      <th></th>\n",
       "      <th></th>\n",
       "    </tr>\n",
       "  </thead>\n",
       "  <tbody>\n",
       "    <tr>\n",
       "      <td>Alabama</td>\n",
       "      <td>0.0</td>\n",
       "      <td>0.0</td>\n",
       "      <td>0.0</td>\n",
       "      <td>0.0</td>\n",
       "      <td>0.0</td>\n",
       "      <td>0.0</td>\n",
       "      <td>0.0</td>\n",
       "      <td>0.0</td>\n",
       "      <td>0.0</td>\n",
       "      <td>0.0</td>\n",
       "      <td>...</td>\n",
       "      <td>720.0</td>\n",
       "      <td>830.0</td>\n",
       "      <td>947.0</td>\n",
       "      <td>999.0</td>\n",
       "      <td>1106.0</td>\n",
       "      <td>1270.0</td>\n",
       "      <td>1535.0</td>\n",
       "      <td>1633.0</td>\n",
       "      <td>1841.0</td>\n",
       "      <td>2006.0</td>\n",
       "    </tr>\n",
       "    <tr>\n",
       "      <td>Alaska</td>\n",
       "      <td>0.0</td>\n",
       "      <td>0.0</td>\n",
       "      <td>0.0</td>\n",
       "      <td>0.0</td>\n",
       "      <td>0.0</td>\n",
       "      <td>0.0</td>\n",
       "      <td>0.0</td>\n",
       "      <td>0.0</td>\n",
       "      <td>0.0</td>\n",
       "      <td>0.0</td>\n",
       "      <td>...</td>\n",
       "      <td>102.0</td>\n",
       "      <td>114.0</td>\n",
       "      <td>119.0</td>\n",
       "      <td>133.0</td>\n",
       "      <td>143.0</td>\n",
       "      <td>146.0</td>\n",
       "      <td>156.0</td>\n",
       "      <td>169.0</td>\n",
       "      <td>185.0</td>\n",
       "      <td>189.0</td>\n",
       "    </tr>\n",
       "    <tr>\n",
       "      <td>Arizona</td>\n",
       "      <td>0.0</td>\n",
       "      <td>0.0</td>\n",
       "      <td>0.0</td>\n",
       "      <td>0.0</td>\n",
       "      <td>0.0</td>\n",
       "      <td>1.0</td>\n",
       "      <td>1.0</td>\n",
       "      <td>1.0</td>\n",
       "      <td>1.0</td>\n",
       "      <td>1.0</td>\n",
       "      <td>...</td>\n",
       "      <td>773.0</td>\n",
       "      <td>929.0</td>\n",
       "      <td>1169.0</td>\n",
       "      <td>1298.0</td>\n",
       "      <td>1413.0</td>\n",
       "      <td>1600.0</td>\n",
       "      <td>1769.0</td>\n",
       "      <td>2019.0</td>\n",
       "      <td>2269.0</td>\n",
       "      <td>2465.0</td>\n",
       "    </tr>\n",
       "    <tr>\n",
       "      <td>Arkansas</td>\n",
       "      <td>0.0</td>\n",
       "      <td>0.0</td>\n",
       "      <td>0.0</td>\n",
       "      <td>0.0</td>\n",
       "      <td>0.0</td>\n",
       "      <td>0.0</td>\n",
       "      <td>0.0</td>\n",
       "      <td>0.0</td>\n",
       "      <td>0.0</td>\n",
       "      <td>0.0</td>\n",
       "      <td>...</td>\n",
       "      <td>409.0</td>\n",
       "      <td>449.0</td>\n",
       "      <td>508.0</td>\n",
       "      <td>564.0</td>\n",
       "      <td>624.0</td>\n",
       "      <td>683.0</td>\n",
       "      <td>738.0</td>\n",
       "      <td>743.0</td>\n",
       "      <td>853.0</td>\n",
       "      <td>927.0</td>\n",
       "    </tr>\n",
       "    <tr>\n",
       "      <td>California</td>\n",
       "      <td>0.0</td>\n",
       "      <td>0.0</td>\n",
       "      <td>0.0</td>\n",
       "      <td>0.0</td>\n",
       "      <td>1.0</td>\n",
       "      <td>2.0</td>\n",
       "      <td>2.0</td>\n",
       "      <td>2.0</td>\n",
       "      <td>2.0</td>\n",
       "      <td>2.0</td>\n",
       "      <td>...</td>\n",
       "      <td>5565.0</td>\n",
       "      <td>6266.0</td>\n",
       "      <td>7421.0</td>\n",
       "      <td>8582.0</td>\n",
       "      <td>9816.0</td>\n",
       "      <td>11190.0</td>\n",
       "      <td>12569.0</td>\n",
       "      <td>13796.0</td>\n",
       "      <td>15076.0</td>\n",
       "      <td>16284.0</td>\n",
       "    </tr>\n",
       "  </tbody>\n",
       "</table>\n",
       "<p>5 rows × 77 columns</p>\n",
       "</div>"
      ],
      "text/plain": [
       "date        2020-01-21  2020-01-22  2020-01-23  2020-01-24  2020-01-25  \\\n",
       "state                                                                    \n",
       "Alabama            0.0         0.0         0.0         0.0         0.0   \n",
       "Alaska             0.0         0.0         0.0         0.0         0.0   \n",
       "Arizona            0.0         0.0         0.0         0.0         0.0   \n",
       "Arkansas           0.0         0.0         0.0         0.0         0.0   \n",
       "California         0.0         0.0         0.0         0.0         1.0   \n",
       "\n",
       "date        2020-01-26  2020-01-27  2020-01-28  2020-01-29  2020-01-30  ...  \\\n",
       "state                                                                   ...   \n",
       "Alabama            0.0         0.0         0.0         0.0         0.0  ...   \n",
       "Alaska             0.0         0.0         0.0         0.0         0.0  ...   \n",
       "Arizona            1.0         1.0         1.0         1.0         1.0  ...   \n",
       "Arkansas           0.0         0.0         0.0         0.0         0.0  ...   \n",
       "California         2.0         2.0         2.0         2.0         2.0  ...   \n",
       "\n",
       "date        2020-03-28  2020-03-29  2020-03-30  2020-03-31  2020-04-01  \\\n",
       "state                                                                    \n",
       "Alabama          720.0       830.0       947.0       999.0      1106.0   \n",
       "Alaska           102.0       114.0       119.0       133.0       143.0   \n",
       "Arizona          773.0       929.0      1169.0      1298.0      1413.0   \n",
       "Arkansas         409.0       449.0       508.0       564.0       624.0   \n",
       "California      5565.0      6266.0      7421.0      8582.0      9816.0   \n",
       "\n",
       "date        2020-04-02  2020-04-03  2020-04-04  2020-04-05  2020-04-06  \n",
       "state                                                                   \n",
       "Alabama         1270.0      1535.0      1633.0      1841.0      2006.0  \n",
       "Alaska           146.0       156.0       169.0       185.0       189.0  \n",
       "Arizona         1600.0      1769.0      2019.0      2269.0      2465.0  \n",
       "Arkansas         683.0       738.0       743.0       853.0       927.0  \n",
       "California     11190.0     12569.0     13796.0     15076.0     16284.0  \n",
       "\n",
       "[5 rows x 77 columns]"
      ]
     },
     "execution_count": 5,
     "metadata": {},
     "output_type": "execute_result"
    }
   ],
   "source": [
    "us_covid_cases_table.head()"
   ]
  },
  {
   "cell_type": "markdown",
   "metadata": {},
   "source": [
    "#### Convert column names to date time objects."
   ]
  },
  {
   "cell_type": "code",
   "execution_count": 6,
   "metadata": {},
   "outputs": [],
   "source": [
    "us_covid_cases_table.columns = pd.to_datetime(us_covid_cases_table.columns)"
   ]
  },
  {
   "cell_type": "code",
   "execution_count": 7,
   "metadata": {},
   "outputs": [
    {
     "name": "stdout",
     "output_type": "stream",
     "text": [
      "2020-01-21 00:00:00\n",
      "<class 'pandas._libs.tslibs.timestamps.Timestamp'>\n"
     ]
    }
   ],
   "source": [
    "print(us_covid_cases_table.columns[0])\n",
    "print(type(us_covid_cases_table.columns[0]))"
   ]
  },
  {
   "cell_type": "markdown",
   "metadata": {},
   "source": [
    "#### Display table for number of cases"
   ]
  },
  {
   "cell_type": "code",
   "execution_count": 8,
   "metadata": {},
   "outputs": [
    {
     "data": {
      "text/html": [
       "<div>\n",
       "<style scoped>\n",
       "    .dataframe tbody tr th:only-of-type {\n",
       "        vertical-align: middle;\n",
       "    }\n",
       "\n",
       "    .dataframe tbody tr th {\n",
       "        vertical-align: top;\n",
       "    }\n",
       "\n",
       "    .dataframe thead th {\n",
       "        text-align: right;\n",
       "    }\n",
       "</style>\n",
       "<table border=\"1\" class=\"dataframe\">\n",
       "  <thead>\n",
       "    <tr style=\"text-align: right;\">\n",
       "      <th>date</th>\n",
       "      <th>2020-01-21</th>\n",
       "      <th>2020-01-22</th>\n",
       "      <th>2020-01-23</th>\n",
       "      <th>2020-01-24</th>\n",
       "      <th>2020-01-25</th>\n",
       "      <th>2020-01-26</th>\n",
       "      <th>2020-01-27</th>\n",
       "      <th>2020-01-28</th>\n",
       "      <th>2020-01-29</th>\n",
       "      <th>2020-01-30</th>\n",
       "      <th>...</th>\n",
       "      <th>2020-03-28</th>\n",
       "      <th>2020-03-29</th>\n",
       "      <th>2020-03-30</th>\n",
       "      <th>2020-03-31</th>\n",
       "      <th>2020-04-01</th>\n",
       "      <th>2020-04-02</th>\n",
       "      <th>2020-04-03</th>\n",
       "      <th>2020-04-04</th>\n",
       "      <th>2020-04-05</th>\n",
       "      <th>2020-04-06</th>\n",
       "    </tr>\n",
       "    <tr>\n",
       "      <th>state</th>\n",
       "      <th></th>\n",
       "      <th></th>\n",
       "      <th></th>\n",
       "      <th></th>\n",
       "      <th></th>\n",
       "      <th></th>\n",
       "      <th></th>\n",
       "      <th></th>\n",
       "      <th></th>\n",
       "      <th></th>\n",
       "      <th></th>\n",
       "      <th></th>\n",
       "      <th></th>\n",
       "      <th></th>\n",
       "      <th></th>\n",
       "      <th></th>\n",
       "      <th></th>\n",
       "      <th></th>\n",
       "      <th></th>\n",
       "      <th></th>\n",
       "      <th></th>\n",
       "    </tr>\n",
       "  </thead>\n",
       "  <tbody>\n",
       "    <tr>\n",
       "      <td>Alabama</td>\n",
       "      <td>0.0</td>\n",
       "      <td>0.0</td>\n",
       "      <td>0.0</td>\n",
       "      <td>0.0</td>\n",
       "      <td>0.0</td>\n",
       "      <td>0.0</td>\n",
       "      <td>0.0</td>\n",
       "      <td>0.0</td>\n",
       "      <td>0.0</td>\n",
       "      <td>0.0</td>\n",
       "      <td>...</td>\n",
       "      <td>720.0</td>\n",
       "      <td>830.0</td>\n",
       "      <td>947.0</td>\n",
       "      <td>999.0</td>\n",
       "      <td>1106.0</td>\n",
       "      <td>1270.0</td>\n",
       "      <td>1535.0</td>\n",
       "      <td>1633.0</td>\n",
       "      <td>1841.0</td>\n",
       "      <td>2006.0</td>\n",
       "    </tr>\n",
       "    <tr>\n",
       "      <td>Alaska</td>\n",
       "      <td>0.0</td>\n",
       "      <td>0.0</td>\n",
       "      <td>0.0</td>\n",
       "      <td>0.0</td>\n",
       "      <td>0.0</td>\n",
       "      <td>0.0</td>\n",
       "      <td>0.0</td>\n",
       "      <td>0.0</td>\n",
       "      <td>0.0</td>\n",
       "      <td>0.0</td>\n",
       "      <td>...</td>\n",
       "      <td>102.0</td>\n",
       "      <td>114.0</td>\n",
       "      <td>119.0</td>\n",
       "      <td>133.0</td>\n",
       "      <td>143.0</td>\n",
       "      <td>146.0</td>\n",
       "      <td>156.0</td>\n",
       "      <td>169.0</td>\n",
       "      <td>185.0</td>\n",
       "      <td>189.0</td>\n",
       "    </tr>\n",
       "    <tr>\n",
       "      <td>Arizona</td>\n",
       "      <td>0.0</td>\n",
       "      <td>0.0</td>\n",
       "      <td>0.0</td>\n",
       "      <td>0.0</td>\n",
       "      <td>0.0</td>\n",
       "      <td>1.0</td>\n",
       "      <td>1.0</td>\n",
       "      <td>1.0</td>\n",
       "      <td>1.0</td>\n",
       "      <td>1.0</td>\n",
       "      <td>...</td>\n",
       "      <td>773.0</td>\n",
       "      <td>929.0</td>\n",
       "      <td>1169.0</td>\n",
       "      <td>1298.0</td>\n",
       "      <td>1413.0</td>\n",
       "      <td>1600.0</td>\n",
       "      <td>1769.0</td>\n",
       "      <td>2019.0</td>\n",
       "      <td>2269.0</td>\n",
       "      <td>2465.0</td>\n",
       "    </tr>\n",
       "    <tr>\n",
       "      <td>Arkansas</td>\n",
       "      <td>0.0</td>\n",
       "      <td>0.0</td>\n",
       "      <td>0.0</td>\n",
       "      <td>0.0</td>\n",
       "      <td>0.0</td>\n",
       "      <td>0.0</td>\n",
       "      <td>0.0</td>\n",
       "      <td>0.0</td>\n",
       "      <td>0.0</td>\n",
       "      <td>0.0</td>\n",
       "      <td>...</td>\n",
       "      <td>409.0</td>\n",
       "      <td>449.0</td>\n",
       "      <td>508.0</td>\n",
       "      <td>564.0</td>\n",
       "      <td>624.0</td>\n",
       "      <td>683.0</td>\n",
       "      <td>738.0</td>\n",
       "      <td>743.0</td>\n",
       "      <td>853.0</td>\n",
       "      <td>927.0</td>\n",
       "    </tr>\n",
       "    <tr>\n",
       "      <td>California</td>\n",
       "      <td>0.0</td>\n",
       "      <td>0.0</td>\n",
       "      <td>0.0</td>\n",
       "      <td>0.0</td>\n",
       "      <td>1.0</td>\n",
       "      <td>2.0</td>\n",
       "      <td>2.0</td>\n",
       "      <td>2.0</td>\n",
       "      <td>2.0</td>\n",
       "      <td>2.0</td>\n",
       "      <td>...</td>\n",
       "      <td>5565.0</td>\n",
       "      <td>6266.0</td>\n",
       "      <td>7421.0</td>\n",
       "      <td>8582.0</td>\n",
       "      <td>9816.0</td>\n",
       "      <td>11190.0</td>\n",
       "      <td>12569.0</td>\n",
       "      <td>13796.0</td>\n",
       "      <td>15076.0</td>\n",
       "      <td>16284.0</td>\n",
       "    </tr>\n",
       "  </tbody>\n",
       "</table>\n",
       "<p>5 rows × 77 columns</p>\n",
       "</div>"
      ],
      "text/plain": [
       "date        2020-01-21  2020-01-22  2020-01-23  2020-01-24  2020-01-25  \\\n",
       "state                                                                    \n",
       "Alabama            0.0         0.0         0.0         0.0         0.0   \n",
       "Alaska             0.0         0.0         0.0         0.0         0.0   \n",
       "Arizona            0.0         0.0         0.0         0.0         0.0   \n",
       "Arkansas           0.0         0.0         0.0         0.0         0.0   \n",
       "California         0.0         0.0         0.0         0.0         1.0   \n",
       "\n",
       "date        2020-01-26  2020-01-27  2020-01-28  2020-01-29  2020-01-30  ...  \\\n",
       "state                                                                   ...   \n",
       "Alabama            0.0         0.0         0.0         0.0         0.0  ...   \n",
       "Alaska             0.0         0.0         0.0         0.0         0.0  ...   \n",
       "Arizona            1.0         1.0         1.0         1.0         1.0  ...   \n",
       "Arkansas           0.0         0.0         0.0         0.0         0.0  ...   \n",
       "California         2.0         2.0         2.0         2.0         2.0  ...   \n",
       "\n",
       "date        2020-03-28  2020-03-29  2020-03-30  2020-03-31  2020-04-01  \\\n",
       "state                                                                    \n",
       "Alabama          720.0       830.0       947.0       999.0      1106.0   \n",
       "Alaska           102.0       114.0       119.0       133.0       143.0   \n",
       "Arizona          773.0       929.0      1169.0      1298.0      1413.0   \n",
       "Arkansas         409.0       449.0       508.0       564.0       624.0   \n",
       "California      5565.0      6266.0      7421.0      8582.0      9816.0   \n",
       "\n",
       "date        2020-04-02  2020-04-03  2020-04-04  2020-04-05  2020-04-06  \n",
       "state                                                                   \n",
       "Alabama         1270.0      1535.0      1633.0      1841.0      2006.0  \n",
       "Alaska           146.0       156.0       169.0       185.0       189.0  \n",
       "Arizona         1600.0      1769.0      2019.0      2269.0      2465.0  \n",
       "Arkansas         683.0       738.0       743.0       853.0       927.0  \n",
       "California     11190.0     12569.0     13796.0     15076.0     16284.0  \n",
       "\n",
       "[5 rows x 77 columns]"
      ]
     },
     "execution_count": 8,
     "metadata": {},
     "output_type": "execute_result"
    }
   ],
   "source": [
    "us_covid_cases_table.head()"
   ]
  },
  {
   "cell_type": "markdown",
   "metadata": {},
   "source": [
    "## For this study, I'm only considering percent increases once the state has over 10 cases. \n",
    "\n",
    "That way, I am getting rid of the bias of those first couple of days (e.g., when a state goes from 1 case to 2 cases, it's a 100% increase)."
   ]
  },
  {
   "cell_type": "code",
   "execution_count": 9,
   "metadata": {},
   "outputs": [],
   "source": [
    "us_covid_cases_table[us_covid_cases_table < 10] = 0"
   ]
  },
  {
   "cell_type": "markdown",
   "metadata": {},
   "source": [
    "#### Create empty array for the daily increases percent = (that days # - prev days #) / prev day"
   ]
  },
  {
   "cell_type": "code",
   "execution_count": 10,
   "metadata": {},
   "outputs": [],
   "source": [
    "us_covid_increases = pd.DataFrame(index=us_covid_cases_table.index.values, \n",
    "                                  columns=us_covid_cases_table.columns.values)\n",
    "us_covid_increases.fillna(0, inplace=True)\n"
   ]
  },
  {
   "cell_type": "markdown",
   "metadata": {},
   "source": [
    "#### Fill empty array with the daily increases from the us_covid_cases_table data"
   ]
  },
  {
   "cell_type": "code",
   "execution_count": 11,
   "metadata": {},
   "outputs": [],
   "source": [
    "for each_date in us_covid_increases.columns.values[1:]:\n",
    "    us_covid_increases[each_date] = ((us_covid_cases_table[each_date] -\n",
    "                                         us_covid_cases_table[each_date - pd.Timedelta(days=1)]) / \n",
    "                                         us_covid_cases_table[each_date - pd.Timedelta(days=1)]) * 100"
   ]
  },
  {
   "cell_type": "markdown",
   "metadata": {},
   "source": [
    "#### Display table for percent increases"
   ]
  },
  {
   "cell_type": "code",
   "execution_count": 12,
   "metadata": {},
   "outputs": [],
   "source": [
    "#us_covid_increases"
   ]
  },
  {
   "cell_type": "markdown",
   "metadata": {},
   "source": [
    "#### Change 'NaN' and 'inf' values to 0 \n",
    "\n",
    "NaN occurs when there were no record cases on that day and the day before (e.g., 0/0)\n",
    "\n",
    "Inf occurs when there was a case reported on that day but none on the day before (e.g., 1/0)"
   ]
  },
  {
   "cell_type": "code",
   "execution_count": 13,
   "metadata": {},
   "outputs": [],
   "source": [
    "us_covid_increases.fillna(0, inplace=True)\n",
    "us_covid_increases.replace(np.inf, 0, inplace=True)"
   ]
  },
  {
   "cell_type": "code",
   "execution_count": 14,
   "metadata": {},
   "outputs": [
    {
     "data": {
      "text/html": [
       "<div>\n",
       "<style scoped>\n",
       "    .dataframe tbody tr th:only-of-type {\n",
       "        vertical-align: middle;\n",
       "    }\n",
       "\n",
       "    .dataframe tbody tr th {\n",
       "        vertical-align: top;\n",
       "    }\n",
       "\n",
       "    .dataframe thead th {\n",
       "        text-align: right;\n",
       "    }\n",
       "</style>\n",
       "<table border=\"1\" class=\"dataframe\">\n",
       "  <thead>\n",
       "    <tr style=\"text-align: right;\">\n",
       "      <th></th>\n",
       "      <th>2020-01-21</th>\n",
       "      <th>2020-01-22</th>\n",
       "      <th>2020-01-23</th>\n",
       "      <th>2020-01-24</th>\n",
       "      <th>2020-01-25</th>\n",
       "      <th>2020-01-26</th>\n",
       "      <th>2020-01-27</th>\n",
       "      <th>2020-01-28</th>\n",
       "      <th>2020-01-29</th>\n",
       "      <th>2020-01-30</th>\n",
       "      <th>...</th>\n",
       "      <th>2020-03-28</th>\n",
       "      <th>2020-03-29</th>\n",
       "      <th>2020-03-30</th>\n",
       "      <th>2020-03-31</th>\n",
       "      <th>2020-04-01</th>\n",
       "      <th>2020-04-02</th>\n",
       "      <th>2020-04-03</th>\n",
       "      <th>2020-04-04</th>\n",
       "      <th>2020-04-05</th>\n",
       "      <th>2020-04-06</th>\n",
       "    </tr>\n",
       "  </thead>\n",
       "  <tbody>\n",
       "    <tr>\n",
       "      <td>Alabama</td>\n",
       "      <td>0</td>\n",
       "      <td>0.0</td>\n",
       "      <td>0.0</td>\n",
       "      <td>0.0</td>\n",
       "      <td>0.0</td>\n",
       "      <td>0.0</td>\n",
       "      <td>0.0</td>\n",
       "      <td>0.0</td>\n",
       "      <td>0.0</td>\n",
       "      <td>0.0</td>\n",
       "      <td>...</td>\n",
       "      <td>12.676056</td>\n",
       "      <td>15.277778</td>\n",
       "      <td>14.096386</td>\n",
       "      <td>5.491024</td>\n",
       "      <td>10.710711</td>\n",
       "      <td>14.828210</td>\n",
       "      <td>20.866142</td>\n",
       "      <td>6.384365</td>\n",
       "      <td>12.737293</td>\n",
       "      <td>8.962520</td>\n",
       "    </tr>\n",
       "    <tr>\n",
       "      <td>Alaska</td>\n",
       "      <td>0</td>\n",
       "      <td>0.0</td>\n",
       "      <td>0.0</td>\n",
       "      <td>0.0</td>\n",
       "      <td>0.0</td>\n",
       "      <td>0.0</td>\n",
       "      <td>0.0</td>\n",
       "      <td>0.0</td>\n",
       "      <td>0.0</td>\n",
       "      <td>0.0</td>\n",
       "      <td>...</td>\n",
       "      <td>20.000000</td>\n",
       "      <td>11.764706</td>\n",
       "      <td>4.385965</td>\n",
       "      <td>11.764706</td>\n",
       "      <td>7.518797</td>\n",
       "      <td>2.097902</td>\n",
       "      <td>6.849315</td>\n",
       "      <td>8.333333</td>\n",
       "      <td>9.467456</td>\n",
       "      <td>2.162162</td>\n",
       "    </tr>\n",
       "    <tr>\n",
       "      <td>Arizona</td>\n",
       "      <td>0</td>\n",
       "      <td>0.0</td>\n",
       "      <td>0.0</td>\n",
       "      <td>0.0</td>\n",
       "      <td>0.0</td>\n",
       "      <td>0.0</td>\n",
       "      <td>0.0</td>\n",
       "      <td>0.0</td>\n",
       "      <td>0.0</td>\n",
       "      <td>0.0</td>\n",
       "      <td>...</td>\n",
       "      <td>16.240602</td>\n",
       "      <td>20.181113</td>\n",
       "      <td>25.834230</td>\n",
       "      <td>11.035073</td>\n",
       "      <td>8.859784</td>\n",
       "      <td>13.234253</td>\n",
       "      <td>10.562500</td>\n",
       "      <td>14.132278</td>\n",
       "      <td>12.382368</td>\n",
       "      <td>8.638167</td>\n",
       "    </tr>\n",
       "    <tr>\n",
       "      <td>Arkansas</td>\n",
       "      <td>0</td>\n",
       "      <td>0.0</td>\n",
       "      <td>0.0</td>\n",
       "      <td>0.0</td>\n",
       "      <td>0.0</td>\n",
       "      <td>0.0</td>\n",
       "      <td>0.0</td>\n",
       "      <td>0.0</td>\n",
       "      <td>0.0</td>\n",
       "      <td>0.0</td>\n",
       "      <td>...</td>\n",
       "      <td>5.958549</td>\n",
       "      <td>9.779951</td>\n",
       "      <td>13.140312</td>\n",
       "      <td>11.023622</td>\n",
       "      <td>10.638298</td>\n",
       "      <td>9.455128</td>\n",
       "      <td>8.052709</td>\n",
       "      <td>0.677507</td>\n",
       "      <td>14.804845</td>\n",
       "      <td>8.675264</td>\n",
       "    </tr>\n",
       "    <tr>\n",
       "      <td>California</td>\n",
       "      <td>0</td>\n",
       "      <td>0.0</td>\n",
       "      <td>0.0</td>\n",
       "      <td>0.0</td>\n",
       "      <td>0.0</td>\n",
       "      <td>0.0</td>\n",
       "      <td>0.0</td>\n",
       "      <td>0.0</td>\n",
       "      <td>0.0</td>\n",
       "      <td>0.0</td>\n",
       "      <td>...</td>\n",
       "      <td>13.247863</td>\n",
       "      <td>12.596586</td>\n",
       "      <td>18.432812</td>\n",
       "      <td>15.644792</td>\n",
       "      <td>14.378933</td>\n",
       "      <td>13.997555</td>\n",
       "      <td>12.323503</td>\n",
       "      <td>9.762113</td>\n",
       "      <td>9.278052</td>\n",
       "      <td>8.012735</td>\n",
       "    </tr>\n",
       "  </tbody>\n",
       "</table>\n",
       "<p>5 rows × 77 columns</p>\n",
       "</div>"
      ],
      "text/plain": [
       "            2020-01-21  2020-01-22  2020-01-23  2020-01-24  2020-01-25  \\\n",
       "Alabama              0         0.0         0.0         0.0         0.0   \n",
       "Alaska               0         0.0         0.0         0.0         0.0   \n",
       "Arizona              0         0.0         0.0         0.0         0.0   \n",
       "Arkansas             0         0.0         0.0         0.0         0.0   \n",
       "California           0         0.0         0.0         0.0         0.0   \n",
       "\n",
       "            2020-01-26  2020-01-27  2020-01-28  2020-01-29  2020-01-30  ...  \\\n",
       "Alabama            0.0         0.0         0.0         0.0         0.0  ...   \n",
       "Alaska             0.0         0.0         0.0         0.0         0.0  ...   \n",
       "Arizona            0.0         0.0         0.0         0.0         0.0  ...   \n",
       "Arkansas           0.0         0.0         0.0         0.0         0.0  ...   \n",
       "California         0.0         0.0         0.0         0.0         0.0  ...   \n",
       "\n",
       "            2020-03-28  2020-03-29  2020-03-30  2020-03-31  2020-04-01  \\\n",
       "Alabama      12.676056   15.277778   14.096386    5.491024   10.710711   \n",
       "Alaska       20.000000   11.764706    4.385965   11.764706    7.518797   \n",
       "Arizona      16.240602   20.181113   25.834230   11.035073    8.859784   \n",
       "Arkansas      5.958549    9.779951   13.140312   11.023622   10.638298   \n",
       "California   13.247863   12.596586   18.432812   15.644792   14.378933   \n",
       "\n",
       "            2020-04-02  2020-04-03  2020-04-04  2020-04-05  2020-04-06  \n",
       "Alabama      14.828210   20.866142    6.384365   12.737293    8.962520  \n",
       "Alaska        2.097902    6.849315    8.333333    9.467456    2.162162  \n",
       "Arizona      13.234253   10.562500   14.132278   12.382368    8.638167  \n",
       "Arkansas      9.455128    8.052709    0.677507   14.804845    8.675264  \n",
       "California   13.997555   12.323503    9.762113    9.278052    8.012735  \n",
       "\n",
       "[5 rows x 77 columns]"
      ]
     },
     "execution_count": 14,
     "metadata": {},
     "output_type": "execute_result"
    }
   ],
   "source": [
    "us_covid_increases.head()"
   ]
  },
  {
   "cell_type": "markdown",
   "metadata": {},
   "source": [
    "#### Reset the index for the table to be named 'state'"
   ]
  },
  {
   "cell_type": "code",
   "execution_count": 15,
   "metadata": {},
   "outputs": [],
   "source": [
    "us_covid_increases.index.name = 'state'"
   ]
  },
  {
   "cell_type": "code",
   "execution_count": 16,
   "metadata": {},
   "outputs": [
    {
     "data": {
      "text/html": [
       "<div>\n",
       "<style scoped>\n",
       "    .dataframe tbody tr th:only-of-type {\n",
       "        vertical-align: middle;\n",
       "    }\n",
       "\n",
       "    .dataframe tbody tr th {\n",
       "        vertical-align: top;\n",
       "    }\n",
       "\n",
       "    .dataframe thead th {\n",
       "        text-align: right;\n",
       "    }\n",
       "</style>\n",
       "<table border=\"1\" class=\"dataframe\">\n",
       "  <thead>\n",
       "    <tr style=\"text-align: right;\">\n",
       "      <th></th>\n",
       "      <th>2020-01-21</th>\n",
       "      <th>2020-01-22</th>\n",
       "      <th>2020-01-23</th>\n",
       "      <th>2020-01-24</th>\n",
       "      <th>2020-01-25</th>\n",
       "      <th>2020-01-26</th>\n",
       "      <th>2020-01-27</th>\n",
       "      <th>2020-01-28</th>\n",
       "      <th>2020-01-29</th>\n",
       "      <th>2020-01-30</th>\n",
       "      <th>...</th>\n",
       "      <th>2020-03-28</th>\n",
       "      <th>2020-03-29</th>\n",
       "      <th>2020-03-30</th>\n",
       "      <th>2020-03-31</th>\n",
       "      <th>2020-04-01</th>\n",
       "      <th>2020-04-02</th>\n",
       "      <th>2020-04-03</th>\n",
       "      <th>2020-04-04</th>\n",
       "      <th>2020-04-05</th>\n",
       "      <th>2020-04-06</th>\n",
       "    </tr>\n",
       "    <tr>\n",
       "      <th>state</th>\n",
       "      <th></th>\n",
       "      <th></th>\n",
       "      <th></th>\n",
       "      <th></th>\n",
       "      <th></th>\n",
       "      <th></th>\n",
       "      <th></th>\n",
       "      <th></th>\n",
       "      <th></th>\n",
       "      <th></th>\n",
       "      <th></th>\n",
       "      <th></th>\n",
       "      <th></th>\n",
       "      <th></th>\n",
       "      <th></th>\n",
       "      <th></th>\n",
       "      <th></th>\n",
       "      <th></th>\n",
       "      <th></th>\n",
       "      <th></th>\n",
       "      <th></th>\n",
       "    </tr>\n",
       "  </thead>\n",
       "  <tbody>\n",
       "    <tr>\n",
       "      <td>Alabama</td>\n",
       "      <td>0</td>\n",
       "      <td>0.0</td>\n",
       "      <td>0.0</td>\n",
       "      <td>0.0</td>\n",
       "      <td>0.0</td>\n",
       "      <td>0.0</td>\n",
       "      <td>0.0</td>\n",
       "      <td>0.0</td>\n",
       "      <td>0.0</td>\n",
       "      <td>0.0</td>\n",
       "      <td>...</td>\n",
       "      <td>12.676056</td>\n",
       "      <td>15.277778</td>\n",
       "      <td>14.096386</td>\n",
       "      <td>5.491024</td>\n",
       "      <td>10.710711</td>\n",
       "      <td>14.828210</td>\n",
       "      <td>20.866142</td>\n",
       "      <td>6.384365</td>\n",
       "      <td>12.737293</td>\n",
       "      <td>8.962520</td>\n",
       "    </tr>\n",
       "    <tr>\n",
       "      <td>Alaska</td>\n",
       "      <td>0</td>\n",
       "      <td>0.0</td>\n",
       "      <td>0.0</td>\n",
       "      <td>0.0</td>\n",
       "      <td>0.0</td>\n",
       "      <td>0.0</td>\n",
       "      <td>0.0</td>\n",
       "      <td>0.0</td>\n",
       "      <td>0.0</td>\n",
       "      <td>0.0</td>\n",
       "      <td>...</td>\n",
       "      <td>20.000000</td>\n",
       "      <td>11.764706</td>\n",
       "      <td>4.385965</td>\n",
       "      <td>11.764706</td>\n",
       "      <td>7.518797</td>\n",
       "      <td>2.097902</td>\n",
       "      <td>6.849315</td>\n",
       "      <td>8.333333</td>\n",
       "      <td>9.467456</td>\n",
       "      <td>2.162162</td>\n",
       "    </tr>\n",
       "    <tr>\n",
       "      <td>Arizona</td>\n",
       "      <td>0</td>\n",
       "      <td>0.0</td>\n",
       "      <td>0.0</td>\n",
       "      <td>0.0</td>\n",
       "      <td>0.0</td>\n",
       "      <td>0.0</td>\n",
       "      <td>0.0</td>\n",
       "      <td>0.0</td>\n",
       "      <td>0.0</td>\n",
       "      <td>0.0</td>\n",
       "      <td>...</td>\n",
       "      <td>16.240602</td>\n",
       "      <td>20.181113</td>\n",
       "      <td>25.834230</td>\n",
       "      <td>11.035073</td>\n",
       "      <td>8.859784</td>\n",
       "      <td>13.234253</td>\n",
       "      <td>10.562500</td>\n",
       "      <td>14.132278</td>\n",
       "      <td>12.382368</td>\n",
       "      <td>8.638167</td>\n",
       "    </tr>\n",
       "    <tr>\n",
       "      <td>Arkansas</td>\n",
       "      <td>0</td>\n",
       "      <td>0.0</td>\n",
       "      <td>0.0</td>\n",
       "      <td>0.0</td>\n",
       "      <td>0.0</td>\n",
       "      <td>0.0</td>\n",
       "      <td>0.0</td>\n",
       "      <td>0.0</td>\n",
       "      <td>0.0</td>\n",
       "      <td>0.0</td>\n",
       "      <td>...</td>\n",
       "      <td>5.958549</td>\n",
       "      <td>9.779951</td>\n",
       "      <td>13.140312</td>\n",
       "      <td>11.023622</td>\n",
       "      <td>10.638298</td>\n",
       "      <td>9.455128</td>\n",
       "      <td>8.052709</td>\n",
       "      <td>0.677507</td>\n",
       "      <td>14.804845</td>\n",
       "      <td>8.675264</td>\n",
       "    </tr>\n",
       "    <tr>\n",
       "      <td>California</td>\n",
       "      <td>0</td>\n",
       "      <td>0.0</td>\n",
       "      <td>0.0</td>\n",
       "      <td>0.0</td>\n",
       "      <td>0.0</td>\n",
       "      <td>0.0</td>\n",
       "      <td>0.0</td>\n",
       "      <td>0.0</td>\n",
       "      <td>0.0</td>\n",
       "      <td>0.0</td>\n",
       "      <td>...</td>\n",
       "      <td>13.247863</td>\n",
       "      <td>12.596586</td>\n",
       "      <td>18.432812</td>\n",
       "      <td>15.644792</td>\n",
       "      <td>14.378933</td>\n",
       "      <td>13.997555</td>\n",
       "      <td>12.323503</td>\n",
       "      <td>9.762113</td>\n",
       "      <td>9.278052</td>\n",
       "      <td>8.012735</td>\n",
       "    </tr>\n",
       "  </tbody>\n",
       "</table>\n",
       "<p>5 rows × 77 columns</p>\n",
       "</div>"
      ],
      "text/plain": [
       "            2020-01-21  2020-01-22  2020-01-23  2020-01-24  2020-01-25  \\\n",
       "state                                                                    \n",
       "Alabama              0         0.0         0.0         0.0         0.0   \n",
       "Alaska               0         0.0         0.0         0.0         0.0   \n",
       "Arizona              0         0.0         0.0         0.0         0.0   \n",
       "Arkansas             0         0.0         0.0         0.0         0.0   \n",
       "California           0         0.0         0.0         0.0         0.0   \n",
       "\n",
       "            2020-01-26  2020-01-27  2020-01-28  2020-01-29  2020-01-30  ...  \\\n",
       "state                                                                   ...   \n",
       "Alabama            0.0         0.0         0.0         0.0         0.0  ...   \n",
       "Alaska             0.0         0.0         0.0         0.0         0.0  ...   \n",
       "Arizona            0.0         0.0         0.0         0.0         0.0  ...   \n",
       "Arkansas           0.0         0.0         0.0         0.0         0.0  ...   \n",
       "California         0.0         0.0         0.0         0.0         0.0  ...   \n",
       "\n",
       "            2020-03-28  2020-03-29  2020-03-30  2020-03-31  2020-04-01  \\\n",
       "state                                                                    \n",
       "Alabama      12.676056   15.277778   14.096386    5.491024   10.710711   \n",
       "Alaska       20.000000   11.764706    4.385965   11.764706    7.518797   \n",
       "Arizona      16.240602   20.181113   25.834230   11.035073    8.859784   \n",
       "Arkansas      5.958549    9.779951   13.140312   11.023622   10.638298   \n",
       "California   13.247863   12.596586   18.432812   15.644792   14.378933   \n",
       "\n",
       "            2020-04-02  2020-04-03  2020-04-04  2020-04-05  2020-04-06  \n",
       "state                                                                   \n",
       "Alabama      14.828210   20.866142    6.384365   12.737293    8.962520  \n",
       "Alaska        2.097902    6.849315    8.333333    9.467456    2.162162  \n",
       "Arizona      13.234253   10.562500   14.132278   12.382368    8.638167  \n",
       "Arkansas      9.455128    8.052709    0.677507   14.804845    8.675264  \n",
       "California   13.997555   12.323503    9.762113    9.278052    8.012735  \n",
       "\n",
       "[5 rows x 77 columns]"
      ]
     },
     "execution_count": 16,
     "metadata": {},
     "output_type": "execute_result"
    }
   ],
   "source": [
    "us_covid_increases.head()"
   ]
  },
  {
   "cell_type": "code",
   "execution_count": 17,
   "metadata": {},
   "outputs": [
    {
     "name": "stdout",
     "output_type": "stream",
     "text": [
      "2020-01-21 00:00:00\n",
      "<class 'pandas._libs.tslibs.timestamps.Timestamp'>\n"
     ]
    }
   ],
   "source": [
    "print(us_covid_cases_table.columns[0])\n",
    "print(type(us_covid_cases_table.columns[0]))"
   ]
  },
  {
   "cell_type": "markdown",
   "metadata": {},
   "source": [
    "#### Make the columns for dates be datetime objects."
   ]
  },
  {
   "cell_type": "markdown",
   "metadata": {},
   "source": [
    "## Load in the dates for stay-at-home orders\n",
    "\n",
    "Dates were scrapped from https://www.kff.org/coronavirus-policy-watch/stay-at-home-orders-to-fight-covid19/"
   ]
  },
  {
   "cell_type": "code",
   "execution_count": 18,
   "metadata": {},
   "outputs": [],
   "source": [
    "stay_home_dates = pd.read_pickle('../datasets/stay_home_orders_pickled.pkl')"
   ]
  },
  {
   "cell_type": "code",
   "execution_count": 19,
   "metadata": {},
   "outputs": [
    {
     "data": {
      "text/html": [
       "<div>\n",
       "<style scoped>\n",
       "    .dataframe tbody tr th:only-of-type {\n",
       "        vertical-align: middle;\n",
       "    }\n",
       "\n",
       "    .dataframe tbody tr th {\n",
       "        vertical-align: top;\n",
       "    }\n",
       "\n",
       "    .dataframe thead th {\n",
       "        text-align: right;\n",
       "    }\n",
       "</style>\n",
       "<table border=\"1\" class=\"dataframe\">\n",
       "  <thead>\n",
       "    <tr style=\"text-align: right;\">\n",
       "      <th></th>\n",
       "      <th>Date Announced</th>\n",
       "      <th>Effective Date</th>\n",
       "    </tr>\n",
       "    <tr>\n",
       "      <th>state</th>\n",
       "      <th></th>\n",
       "      <th></th>\n",
       "    </tr>\n",
       "  </thead>\n",
       "  <tbody>\n",
       "    <tr>\n",
       "      <td>Alabama</td>\n",
       "      <td>2020-04-03</td>\n",
       "      <td>2020-04-04</td>\n",
       "    </tr>\n",
       "    <tr>\n",
       "      <td>Alaska</td>\n",
       "      <td>2020-03-27</td>\n",
       "      <td>2020-03-28</td>\n",
       "    </tr>\n",
       "    <tr>\n",
       "      <td>Arizona</td>\n",
       "      <td>2020-03-30</td>\n",
       "      <td>2020-03-31</td>\n",
       "    </tr>\n",
       "    <tr>\n",
       "      <td>California</td>\n",
       "      <td>2020-03-19</td>\n",
       "      <td>2020-03-19</td>\n",
       "    </tr>\n",
       "    <tr>\n",
       "      <td>Colorado</td>\n",
       "      <td>2020-03-26</td>\n",
       "      <td>2020-03-26</td>\n",
       "    </tr>\n",
       "  </tbody>\n",
       "</table>\n",
       "</div>"
      ],
      "text/plain": [
       "           Date Announced Effective Date\n",
       "state                                   \n",
       "Alabama        2020-04-03     2020-04-04\n",
       "Alaska         2020-03-27     2020-03-28\n",
       "Arizona        2020-03-30     2020-03-31\n",
       "California     2020-03-19     2020-03-19\n",
       "Colorado       2020-03-26     2020-03-26"
      ]
     },
     "execution_count": 19,
     "metadata": {},
     "output_type": "execute_result"
    }
   ],
   "source": [
    "stay_home_dates.head()"
   ]
  },
  {
   "cell_type": "code",
   "execution_count": 20,
   "metadata": {},
   "outputs": [
    {
     "name": "stdout",
     "output_type": "stream",
     "text": [
      "2020-03-28 00:00:00\n",
      "<class 'pandas._libs.tslibs.timestamps.Timestamp'>\n"
     ]
    }
   ],
   "source": [
    "print(stay_home_dates.iloc[1,1])\n",
    "print(type(stay_home_dates.iloc[1,1]))"
   ]
  },
  {
   "cell_type": "markdown",
   "metadata": {},
   "source": [
    "## Merge the percent increases and the stay-at-home order date dataframes\n",
    "\n",
    "This will drop the states that have not implemented stay-at-home orders, which is good for this study because we're trying to answer the original question.\n",
    "\n",
    "Also drops the non-state entries from us_covid_increases table."
   ]
  },
  {
   "cell_type": "code",
   "execution_count": 21,
   "metadata": {},
   "outputs": [],
   "source": [
    "us_covid_with_dates = pd.merge(us_covid_increases, stay_home_dates, on='state')"
   ]
  },
  {
   "cell_type": "markdown",
   "metadata": {},
   "source": [
    "### Drop the Date Announced column"
   ]
  },
  {
   "cell_type": "code",
   "execution_count": 22,
   "metadata": {},
   "outputs": [],
   "source": [
    "us_covid_with_dates.drop(['Date Announced'], axis=1, inplace=True)"
   ]
  },
  {
   "cell_type": "code",
   "execution_count": 23,
   "metadata": {},
   "outputs": [
    {
     "data": {
      "text/html": [
       "<div>\n",
       "<style scoped>\n",
       "    .dataframe tbody tr th:only-of-type {\n",
       "        vertical-align: middle;\n",
       "    }\n",
       "\n",
       "    .dataframe tbody tr th {\n",
       "        vertical-align: top;\n",
       "    }\n",
       "\n",
       "    .dataframe thead th {\n",
       "        text-align: right;\n",
       "    }\n",
       "</style>\n",
       "<table border=\"1\" class=\"dataframe\">\n",
       "  <thead>\n",
       "    <tr style=\"text-align: right;\">\n",
       "      <th></th>\n",
       "      <th>2020-01-21 00:00:00</th>\n",
       "      <th>2020-01-22 00:00:00</th>\n",
       "      <th>2020-01-23 00:00:00</th>\n",
       "      <th>2020-01-24 00:00:00</th>\n",
       "      <th>2020-01-25 00:00:00</th>\n",
       "      <th>2020-01-26 00:00:00</th>\n",
       "      <th>2020-01-27 00:00:00</th>\n",
       "      <th>2020-01-28 00:00:00</th>\n",
       "      <th>2020-01-29 00:00:00</th>\n",
       "      <th>2020-01-30 00:00:00</th>\n",
       "      <th>...</th>\n",
       "      <th>2020-03-29 00:00:00</th>\n",
       "      <th>2020-03-30 00:00:00</th>\n",
       "      <th>2020-03-31 00:00:00</th>\n",
       "      <th>2020-04-01 00:00:00</th>\n",
       "      <th>2020-04-02 00:00:00</th>\n",
       "      <th>2020-04-03 00:00:00</th>\n",
       "      <th>2020-04-04 00:00:00</th>\n",
       "      <th>2020-04-05 00:00:00</th>\n",
       "      <th>2020-04-06 00:00:00</th>\n",
       "      <th>Effective Date</th>\n",
       "    </tr>\n",
       "    <tr>\n",
       "      <th>state</th>\n",
       "      <th></th>\n",
       "      <th></th>\n",
       "      <th></th>\n",
       "      <th></th>\n",
       "      <th></th>\n",
       "      <th></th>\n",
       "      <th></th>\n",
       "      <th></th>\n",
       "      <th></th>\n",
       "      <th></th>\n",
       "      <th></th>\n",
       "      <th></th>\n",
       "      <th></th>\n",
       "      <th></th>\n",
       "      <th></th>\n",
       "      <th></th>\n",
       "      <th></th>\n",
       "      <th></th>\n",
       "      <th></th>\n",
       "      <th></th>\n",
       "      <th></th>\n",
       "    </tr>\n",
       "  </thead>\n",
       "  <tbody>\n",
       "    <tr>\n",
       "      <td>Alabama</td>\n",
       "      <td>0</td>\n",
       "      <td>0.0</td>\n",
       "      <td>0.0</td>\n",
       "      <td>0.0</td>\n",
       "      <td>0.0</td>\n",
       "      <td>0.0</td>\n",
       "      <td>0.0</td>\n",
       "      <td>0.0</td>\n",
       "      <td>0.0</td>\n",
       "      <td>0.0</td>\n",
       "      <td>...</td>\n",
       "      <td>15.277778</td>\n",
       "      <td>14.096386</td>\n",
       "      <td>5.491024</td>\n",
       "      <td>10.710711</td>\n",
       "      <td>14.828210</td>\n",
       "      <td>20.866142</td>\n",
       "      <td>6.384365</td>\n",
       "      <td>12.737293</td>\n",
       "      <td>8.962520</td>\n",
       "      <td>2020-04-04</td>\n",
       "    </tr>\n",
       "    <tr>\n",
       "      <td>Alaska</td>\n",
       "      <td>0</td>\n",
       "      <td>0.0</td>\n",
       "      <td>0.0</td>\n",
       "      <td>0.0</td>\n",
       "      <td>0.0</td>\n",
       "      <td>0.0</td>\n",
       "      <td>0.0</td>\n",
       "      <td>0.0</td>\n",
       "      <td>0.0</td>\n",
       "      <td>0.0</td>\n",
       "      <td>...</td>\n",
       "      <td>11.764706</td>\n",
       "      <td>4.385965</td>\n",
       "      <td>11.764706</td>\n",
       "      <td>7.518797</td>\n",
       "      <td>2.097902</td>\n",
       "      <td>6.849315</td>\n",
       "      <td>8.333333</td>\n",
       "      <td>9.467456</td>\n",
       "      <td>2.162162</td>\n",
       "      <td>2020-03-28</td>\n",
       "    </tr>\n",
       "    <tr>\n",
       "      <td>Arizona</td>\n",
       "      <td>0</td>\n",
       "      <td>0.0</td>\n",
       "      <td>0.0</td>\n",
       "      <td>0.0</td>\n",
       "      <td>0.0</td>\n",
       "      <td>0.0</td>\n",
       "      <td>0.0</td>\n",
       "      <td>0.0</td>\n",
       "      <td>0.0</td>\n",
       "      <td>0.0</td>\n",
       "      <td>...</td>\n",
       "      <td>20.181113</td>\n",
       "      <td>25.834230</td>\n",
       "      <td>11.035073</td>\n",
       "      <td>8.859784</td>\n",
       "      <td>13.234253</td>\n",
       "      <td>10.562500</td>\n",
       "      <td>14.132278</td>\n",
       "      <td>12.382368</td>\n",
       "      <td>8.638167</td>\n",
       "      <td>2020-03-31</td>\n",
       "    </tr>\n",
       "    <tr>\n",
       "      <td>California</td>\n",
       "      <td>0</td>\n",
       "      <td>0.0</td>\n",
       "      <td>0.0</td>\n",
       "      <td>0.0</td>\n",
       "      <td>0.0</td>\n",
       "      <td>0.0</td>\n",
       "      <td>0.0</td>\n",
       "      <td>0.0</td>\n",
       "      <td>0.0</td>\n",
       "      <td>0.0</td>\n",
       "      <td>...</td>\n",
       "      <td>12.596586</td>\n",
       "      <td>18.432812</td>\n",
       "      <td>15.644792</td>\n",
       "      <td>14.378933</td>\n",
       "      <td>13.997555</td>\n",
       "      <td>12.323503</td>\n",
       "      <td>9.762113</td>\n",
       "      <td>9.278052</td>\n",
       "      <td>8.012735</td>\n",
       "      <td>2020-03-19</td>\n",
       "    </tr>\n",
       "    <tr>\n",
       "      <td>Colorado</td>\n",
       "      <td>0</td>\n",
       "      <td>0.0</td>\n",
       "      <td>0.0</td>\n",
       "      <td>0.0</td>\n",
       "      <td>0.0</td>\n",
       "      <td>0.0</td>\n",
       "      <td>0.0</td>\n",
       "      <td>0.0</td>\n",
       "      <td>0.0</td>\n",
       "      <td>0.0</td>\n",
       "      <td>...</td>\n",
       "      <td>12.324115</td>\n",
       "      <td>13.520518</td>\n",
       "      <td>13.774734</td>\n",
       "      <td>11.906355</td>\n",
       "      <td>11.416617</td>\n",
       "      <td>12.178112</td>\n",
       "      <td>9.373505</td>\n",
       "      <td>8.220376</td>\n",
       "      <td>4.484848</td>\n",
       "      <td>2020-03-26</td>\n",
       "    </tr>\n",
       "  </tbody>\n",
       "</table>\n",
       "<p>5 rows × 78 columns</p>\n",
       "</div>"
      ],
      "text/plain": [
       "            2020-01-21 00:00:00  2020-01-22 00:00:00  2020-01-23 00:00:00  \\\n",
       "state                                                                       \n",
       "Alabama                       0                  0.0                  0.0   \n",
       "Alaska                        0                  0.0                  0.0   \n",
       "Arizona                       0                  0.0                  0.0   \n",
       "California                    0                  0.0                  0.0   \n",
       "Colorado                      0                  0.0                  0.0   \n",
       "\n",
       "            2020-01-24 00:00:00  2020-01-25 00:00:00  2020-01-26 00:00:00  \\\n",
       "state                                                                       \n",
       "Alabama                     0.0                  0.0                  0.0   \n",
       "Alaska                      0.0                  0.0                  0.0   \n",
       "Arizona                     0.0                  0.0                  0.0   \n",
       "California                  0.0                  0.0                  0.0   \n",
       "Colorado                    0.0                  0.0                  0.0   \n",
       "\n",
       "            2020-01-27 00:00:00  2020-01-28 00:00:00  2020-01-29 00:00:00  \\\n",
       "state                                                                       \n",
       "Alabama                     0.0                  0.0                  0.0   \n",
       "Alaska                      0.0                  0.0                  0.0   \n",
       "Arizona                     0.0                  0.0                  0.0   \n",
       "California                  0.0                  0.0                  0.0   \n",
       "Colorado                    0.0                  0.0                  0.0   \n",
       "\n",
       "            2020-01-30 00:00:00  ...  2020-03-29 00:00:00  \\\n",
       "state                            ...                        \n",
       "Alabama                     0.0  ...            15.277778   \n",
       "Alaska                      0.0  ...            11.764706   \n",
       "Arizona                     0.0  ...            20.181113   \n",
       "California                  0.0  ...            12.596586   \n",
       "Colorado                    0.0  ...            12.324115   \n",
       "\n",
       "            2020-03-30 00:00:00  2020-03-31 00:00:00  2020-04-01 00:00:00  \\\n",
       "state                                                                       \n",
       "Alabama               14.096386             5.491024            10.710711   \n",
       "Alaska                 4.385965            11.764706             7.518797   \n",
       "Arizona               25.834230            11.035073             8.859784   \n",
       "California            18.432812            15.644792            14.378933   \n",
       "Colorado              13.520518            13.774734            11.906355   \n",
       "\n",
       "            2020-04-02 00:00:00  2020-04-03 00:00:00  2020-04-04 00:00:00  \\\n",
       "state                                                                       \n",
       "Alabama               14.828210            20.866142             6.384365   \n",
       "Alaska                 2.097902             6.849315             8.333333   \n",
       "Arizona               13.234253            10.562500            14.132278   \n",
       "California            13.997555            12.323503             9.762113   \n",
       "Colorado              11.416617            12.178112             9.373505   \n",
       "\n",
       "            2020-04-05 00:00:00  2020-04-06 00:00:00  Effective Date  \n",
       "state                                                                 \n",
       "Alabama               12.737293             8.962520      2020-04-04  \n",
       "Alaska                 9.467456             2.162162      2020-03-28  \n",
       "Arizona               12.382368             8.638167      2020-03-31  \n",
       "California             9.278052             8.012735      2020-03-19  \n",
       "Colorado               8.220376             4.484848      2020-03-26  \n",
       "\n",
       "[5 rows x 78 columns]"
      ]
     },
     "execution_count": 23,
     "metadata": {},
     "output_type": "execute_result"
    }
   ],
   "source": [
    "us_covid_with_dates.head()"
   ]
  },
  {
   "cell_type": "code",
   "execution_count": 24,
   "metadata": {},
   "outputs": [
    {
     "name": "stdout",
     "output_type": "stream",
     "text": [
      "2020-01-21 00:00:00\n",
      "<class 'pandas._libs.tslibs.timestamps.Timestamp'>\n"
     ]
    }
   ],
   "source": [
    "print(us_covid_with_dates.columns[0])\n",
    "print(type(us_covid_with_dates.columns[0]))"
   ]
  },
  {
   "cell_type": "code",
   "execution_count": 25,
   "metadata": {},
   "outputs": [
    {
     "name": "stdout",
     "output_type": "stream",
     "text": [
      "2020-03-28 00:00:00\n",
      "<class 'pandas._libs.tslibs.timestamps.Timestamp'>\n"
     ]
    }
   ],
   "source": [
    "print(us_covid_with_dates.iloc[1, -1])\n",
    "print(type(us_covid_with_dates.iloc[1,-1]))"
   ]
  },
  {
   "cell_type": "markdown",
   "metadata": {},
   "source": [
    "## Plot the Percent Increases Over Time"
   ]
  },
  {
   "cell_type": "code",
   "execution_count": 26,
   "metadata": {},
   "outputs": [],
   "source": [
    "def plot_percent_changes(ax, data, dates, label):\n",
    "    '''Plots the dates/data on the given axis and applies a label to it.\n",
    "    Inputs\n",
    "    ------\n",
    "    ax: matplotlib ax to plot on\n",
    "    data: float with last entry being date in which the stay-at-home order was effective.\n",
    "    dates: pandas._libs.tslibs.timestamps.Timestamp with last entry being 'Effective Date'\n",
    "    label: string\n",
    "    \n",
    "    Returns\n",
    "    -------\n",
    "    None\n",
    "    '''\n",
    "    #strip data of stay-at-home order date\n",
    "    data_ = data[:-1]\n",
    "    #get only the data that is more than 0\n",
    "    data_greater = data_[data_>0]\n",
    "    \n",
    "    #strip dates of last entry\n",
    "    dates_ = dates[:-1]\n",
    "    #get only the dates that the data is more than 0\n",
    "    dates_greater = dates_[data_>0] \n",
    "    \n",
    "    ax.plot(dates_greater, data_greater, label = label)\n",
    "    \n",
    "    #plot a vertical line at the stay-at-home date\n",
    "    stay_home_date = data[-1]\n",
    "    \n",
    "    ax.axvline(stay_home_date, color=\"red\", linestyle=\"--\", \n",
    "               label='stay-home date')"
   ]
  },
  {
   "cell_type": "code",
   "execution_count": 27,
   "metadata": {},
   "outputs": [],
   "source": [
    "def generate_labels(ax):\n",
    "    ax.legend(fontsize=14)\n",
    "    fig.autofmt_xdate()\n",
    "    start, end = ax.get_xlim()\n",
    "    ax.xaxis.set_ticks(np.arange(start, end, 4));\n",
    "    ax.set_ylabel('Percent Change Per Day')\n",
    "    ax.yaxis.label.set_size(20)\n",
    "    ax.set_xlabel('Date')\n",
    "    ax.xaxis.label.set_size(20)"
   ]
  },
  {
   "cell_type": "code",
   "execution_count": 28,
   "metadata": {},
   "outputs": [],
   "source": [
    "def plot_social_distance(ax, date):\n",
    "    '''Plots vertical line on axis that shows the date at which social distancing was implemented.\n",
    "    Inputs\n",
    "    ------\n",
    "    ax: matplotlib ax to plot on\n",
    "    dates: pandas._libs.tslibs.timestamps.Timestamp with last entry being 'Effective Date'\n",
    "    label: string\n",
    "    \n",
    "    Returns\n",
    "    -------\n",
    "    None   \n",
    "    \n",
    "    '''\n",
    "    ax.axvline(date, color=\"green\", linestyle=\"--\", \n",
    "               label='social distancing date')"
   ]
  },
  {
   "cell_type": "code",
   "execution_count": 29,
   "metadata": {},
   "outputs": [],
   "source": [
    "def get_social_distance_date():\n",
    "    federal_dist_date = '2020-03-16'\n",
    "    federal_dist_date = pd.to_datetime(federal_dist_date)\n",
    "    return federal_dist_date"
   ]
  },
  {
   "cell_type": "code",
   "execution_count": 30,
   "metadata": {},
   "outputs": [
    {
     "name": "stderr",
     "output_type": "stream",
     "text": [
      "/Users/tjwoo/anaconda3/lib/python3.7/site-packages/pandas/plotting/_matplotlib/converter.py:103: FutureWarning: Using an implicitly registered datetime converter for a matplotlib plotting method. The converter was registered by pandas on import. Future versions of pandas will require you to explicitly register matplotlib converters.\n",
      "\n",
      "To register the converters:\n",
      "\t>>> from pandas.plotting import register_matplotlib_converters\n",
      "\t>>> register_matplotlib_converters()\n",
      "  warnings.warn(msg, FutureWarning)\n"
     ]
    },
    {
     "data": {
      "image/png": "[encoded data removed]",
      "text/plain": [
       "<Figure size 864x720 with 1 Axes>"
      ]
     },
     "metadata": {},
     "output_type": "display_data"
    }
   ],
   "source": [
    "fig, ax = plt.subplots(figsize=(12,10))\n",
    "plot_percent_changes(ax, us_covid_with_dates.loc['Washington', :], \n",
    "                     us_covid_with_dates.columns, 'Washington')\n",
    "plot_social_distance(ax, get_social_distance_date())\n",
    "generate_labels(ax)"
   ]
  },
  {
   "cell_type": "markdown",
   "metadata": {},
   "source": [
    "## Hypothesis Testing and Statistical Power Analysis"
   ]
  },
  {
   "cell_type": "markdown",
   "metadata": {},
   "source": [
    "### Null Hypothesis Signficance Testing Procedure"
   ]
  },
  {
   "cell_type": "markdown",
   "metadata": {},
   "source": [
    "##### 1. State a scientific yes/no question.\n",
    "\n",
    "Question: Do stay-at-home guidelines provide a change in the percent increase of the number of COVID-19 cases that a state reports?"
   ]
  },
  {
   "cell_type": "markdown",
   "metadata": {},
   "source": [
    "##### 2. Take a skeptical stance: State a null hypothesis.\n",
    "\n",
    "H_0: The social distancing guidelines do not provide a change in the percent increase of COVID-19 cases that a state reports."
   ]
  },
  {
   "cell_type": "markdown",
   "metadata": {},
   "source": [
    "##### 3. State the opposite of your null hypothesis: the alternative hypothesis.\n",
    "\n",
    "H_A: Social distancing guidelines provide a 30% decrease in percent daily increases."
   ]
  },
  {
   "cell_type": "markdown",
   "metadata": {},
   "source": [
    "##### 4. Create a probabilistic model of the situation when the null hypothesis is true.\n",
    "\n",
    "$$ \\text{Difference in percent increase averages | H0} \\sim Normal \\left( 0, \\sqrt{\\frac{\\sigma^2 (pre)}{num days pre} + \\frac{\\sigma^2 (post)}{num days post}} \\right) $$"
   ]
  },
  {
   "cell_type": "markdown",
   "metadata": {},
   "source": [
    "##### 5. Determine how surprised you need to be to reject the null: Determine a rejection level alpha.\n",
    "\n",
    "$$ \\alpha = 0.05 $$"
   ]
  },
  {
   "cell_type": "markdown",
   "metadata": {},
   "source": [
    "##### 6. Collect your data.\n",
    "\n",
    "> Look at Washington first"
   ]
  },
  {
   "cell_type": "markdown",
   "metadata": {},
   "source": [
    "##### 7. Calculate the conditional probability of finding a result equally or more extreme that you actually observed, assuming the null is true: This is your p-value."
   ]
  },
  {
   "cell_type": "code",
   "execution_count": 31,
   "metadata": {},
   "outputs": [],
   "source": [
    "def calc_p_value(data1, data2):\n",
    "    stat, p_val = stats.ttest_ind(data1, data2, equal_var = False)\n",
    "    return p_val"
   ]
  },
  {
   "cell_type": "code",
   "execution_count": 32,
   "metadata": {},
   "outputs": [],
   "source": [
    "# Percent increase for pre-social distancing\n",
    "\n",
    "washington_pre = us_covid_with_dates.loc['Washington', :get_social_distance_date() + \n",
    "                        pd.Timedelta(days=7)]\n",
    "washington_pre = washington_pre[washington_pre>0]"
   ]
  },
  {
   "cell_type": "code",
   "execution_count": 33,
   "metadata": {},
   "outputs": [],
   "source": [
    "# Percent increase for post-social distancing\n",
    "\n",
    "last_date_entry = us_covid_with_dates.columns[-2]\n",
    "\n",
    "washington_post = us_covid_with_dates.loc['Washington', \n",
    "                                          get_social_distance_date() + \n",
    "                                          pd.Timedelta(days=8):last_date_entry]\n",
    "washington_post = washington_post[washington_post>0]"
   ]
  },
  {
   "cell_type": "code",
   "execution_count": 37,
   "metadata": {},
   "outputs": [],
   "source": [
    "wash_p_value = calc_p_value(washington_pre, washington_post)"
   ]
  },
  {
   "cell_type": "markdown",
   "metadata": {},
   "source": [
    "##### 8. Compare the p-value to your stated rejection threshold, reject the null hypothesis if the p-value is smaller than your rejection level alpha."
   ]
  },
  {
   "cell_type": "code",
   "execution_count": 38,
   "metadata": {},
   "outputs": [],
   "source": [
    "def compare_p_value(p_val, alpha):\n",
    "    if p_val > alpha:\n",
    "        print(\"The null hypothesis can NOT be rejected.\")\n",
    "    else:\n",
    "        print(\"The null hypothesis can be rejected.\")"
   ]
  },
  {
   "cell_type": "code",
   "execution_count": 39,
   "metadata": {},
   "outputs": [
    {
     "name": "stdout",
     "output_type": "stream",
     "text": [
      "The null hypothesis can be rejected.\n"
     ]
    }
   ],
   "source": [
    "compare_p_value(wash_p_value, 0.05)"
   ]
  },
  {
   "cell_type": "markdown",
   "metadata": {},
   "source": [
    "### Statistical Power"
   ]
  },
  {
   "cell_type": "markdown",
   "metadata": {},
   "source": [
    "If it is assumed a specific, precise effect, then the difference in average **is** normally distributed. Under this assumption, our data on mean difference in percent increase can be generated."
   ]
  },
  {
   "cell_type": "markdown",
   "metadata": {},
   "source": [
    "$$ \\text{Mean Percent Daily Increase of COVID-19 Cases (before distancing)} \\mid H_0 \\sim N\\left(Mean Perc Inc (before), \\frac{\\sigma}{\\sqrt{days}}\\right)$$\n",
    "\n",
    "$$ \\text{Mean Percent Daily Increase of COVID-19 Cases (after distancing)} \\mid H_0 \\sim N\\left(Mean Perc Inc (after), \\frac{\\sigma}{\\sqrt{days}}\\right)$$\n",
    "\n",
    "$$ \\text{Difference in Mean Percent Daily Increase of COVID-19 Cases} \\mid H_0 \\sim N\\left(0, \\frac{\\sigma}{\\sqrt{days}}\\right)$$\n",
    "\n",
    "$$ \\text{Mean Percent Daily Increase of COVID-19 Cases} \\mid H_A \\sim N\\left(Mean * .7, \\frac{\\sigma}{\\sqrt{days}}\\right)$$\n"
   ]
  },
  {
   "cell_type": "code",
   "execution_count": null,
   "metadata": {},
   "outputs": [],
   "source": [
    "def get_mean_and_std_error(data):\n",
    "    '''Takes in an np.array or pandas.Series and returns \n",
    "    the mean and std error of the data'''\n",
    "    \n",
    "    average = data.mean()\n",
    "    std_error = data.std() / math.sqrt(len(data))\n",
    "    \n",
    "    return average, std_error"
   ]
  },
  {
   "cell_type": "markdown",
   "metadata": {},
   "source": [
    "##### Washington"
   ]
  },
  {
   "cell_type": "code",
   "execution_count": null,
   "metadata": {},
   "outputs": [],
   "source": [
    "# Percent increase for pre-social distancing\n",
    "\n",
    "washington_pre = us_covid_with_dates.loc['Washington', :get_social_distance_date() + \n",
    "                        pd.Timedelta(days=7)]\n",
    "washington_pre = washington_pre[washington_pre>0]"
   ]
  },
  {
   "cell_type": "code",
   "execution_count": null,
   "metadata": {},
   "outputs": [],
   "source": [
    "wash_ave_pre, wash_std_error_pre = get_mean_and_std_error(washington_pre)"
   ]
  },
  {
   "cell_type": "code",
   "execution_count": null,
   "metadata": {},
   "outputs": [],
   "source": [
    "# Percent increase for post-social distancing\n",
    "\n",
    "last_date_entry = us_covid_with_dates.columns[-2]\n",
    "\n",
    "washington_post = us_covid_with_dates.loc['Washington', \n",
    "                                          get_social_distance_date() + \n",
    "                                          pd.Timedelta(days=8):last_date_entry]\n",
    "washington_post = washington_post[washington_post>0]"
   ]
  },
  {
   "cell_type": "code",
   "execution_count": null,
   "metadata": {},
   "outputs": [],
   "source": [
    "wash_ave_post, wash_std_error_post = get_mean_and_std_error(washington_post)"
   ]
  },
  {
   "cell_type": "code",
   "execution_count": null,
   "metadata": {},
   "outputs": [],
   "source": [
    "def get_distribution(mean, std_error) -> 'scipy.stats._distn_infrastructure.rv_frozen':\n",
    "    '''Takes in an np.array and returns the normal distribution object.'''\n",
    "    \n",
    "    distribution = stats.norm(loc=mean, scale=std_error)\n",
    "    return distribution"
   ]
  },
  {
   "cell_type": "markdown",
   "metadata": {},
   "source": [
    "##### Washington\n",
    "\n",
    "Null Hypothesis, H_0"
   ]
  },
  {
   "cell_type": "code",
   "execution_count": null,
   "metadata": {},
   "outputs": [],
   "source": [
    "washington_pre_dist = get_distribution(wash_ave_pre, wash_std_error_pre)"
   ]
  },
  {
   "cell_type": "markdown",
   "metadata": {},
   "source": [
    "Alternative Hypothesis, H_A\n",
    "\n",
    "H_A: Social distancing guidelines provide a 10% decrease in percent daily increases."
   ]
  },
  {
   "cell_type": "code",
   "execution_count": null,
   "metadata": {},
   "outputs": [],
   "source": [
    "washington_alt = get_distribution(wash_ave_pre*0.7, wash_std_error_pre)"
   ]
  },
  {
   "cell_type": "markdown",
   "metadata": {},
   "source": [
    "#### Plot the sampling distributions of the H_0 and H_A"
   ]
  },
  {
   "cell_type": "code",
   "execution_count": null,
   "metadata": {},
   "outputs": [],
   "source": [
    "def plot_distribution(ax, distribution, mean, std_error, label):\n",
    "    '''Plots the distribution on an axis.\n",
    "    Inputs\n",
    "    -------\n",
    "    ax: matplotlib axis\n",
    "    distribution: scipy.stats._distn_infrastructure.rv_frozen\n",
    "    mean: float\n",
    "    std_error: float\n",
    "    title: string to set the axis title to.\n",
    "    \n",
    "    Returns\n",
    "    -------\n",
    "    None\n",
    "    \n",
    "    '''\n",
    "    \n",
    "    t = np.linspace(mean - 4*std_error, mean + 4*std_error, num=250)\n",
    "    \n",
    "    ax.plot(t, distribution.pdf(t), label=label)"
   ]
  },
  {
   "cell_type": "code",
   "execution_count": null,
   "metadata": {},
   "outputs": [],
   "source": [
    "def generate_labels_dist(ax1):\n",
    "    ax1.legend(fontsize=15)\n",
    "    ax1.set_title('Distribution of Percent Increases', fontsize=25)"
   ]
  },
  {
   "cell_type": "code",
   "execution_count": null,
   "metadata": {},
   "outputs": [],
   "source": [
    "fig, ax = plt.subplots(figsize=(14,10))\n",
    "\n",
    "plot_distribution(ax, washington_pre_dist, wash_ave_pre, \n",
    "                  wash_std_error_pre, 'Washington H0')\n",
    "plot_distribution(ax, washington_alt, wash_ave_pre*0.7, \n",
    "                  wash_std_error_pre, 'Washington Alt')\n",
    "generate_labels_dist(ax)"
   ]
  },
  {
   "cell_type": "markdown",
   "metadata": {},
   "source": [
    "#### Plot Vertical Line to indicate the bounds for rejecting the null hypthosesis"
   ]
  },
  {
   "cell_type": "code",
   "execution_count": null,
   "metadata": {},
   "outputs": [],
   "source": [
    "def plot_rejection_region(ax, distribution, mean, std_error):\n",
    "    '''Plot a vertical line to indicate the bounds for rejecting the null hypothesis, \n",
    "    assuming a signficance level of 0.05.'''\n",
    "    \n",
    "    t = np.linspace(mean - 4*std_error, mean + 4*std_error, num=250)\n",
    "    \n",
    "    critical_value_left = distribution.ppf(.05)\n",
    "    \n",
    "    ax.axvline(critical_value_left, color=\"grey\", linestyle=\"--\")\n",
    "    \n",
    "    tneg = t[t <= critical_value_left]\n",
    "    ax.fill_between(tneg, 0, distribution.pdf(tneg),\n",
    "                   color='green', alpha=0.2, label=r\"$\\alpha$\")\n",
    "    ax.legend()"
   ]
  },
  {
   "cell_type": "code",
   "execution_count": null,
   "metadata": {},
   "outputs": [],
   "source": [
    "fig, ax = plt.subplots(figsize=(14,10))\n",
    "plot_distribution(ax, washington_pre_dist, wash_ave_pre, \n",
    "                  wash_std_error_pre, 'Washington H0')\n",
    "plot_distribution(ax, washington_alt, wash_ave_pre*0.7, \n",
    "                  wash_std_error_pre, 'Washington Alt')\n",
    "plot_rejection_region(ax, washington_pre_dist, wash_ave_pre, \n",
    "                      wash_std_error_pre)\n",
    "generate_labels_dist(ax)"
   ]
  },
  {
   "cell_type": "markdown",
   "metadata": {},
   "source": [
    "#### Compute the power of the test. Shade area under the alternate hypothesis distribution that indicates the power of the test.\n",
    "\n",
    "Power is given by the area under the alternate distribution with the rejection region."
   ]
  },
  {
   "cell_type": "code",
   "execution_count": null,
   "metadata": {},
   "outputs": [],
   "source": [
    "def plot_power_reigons(ax1, distribution_0, distribution_a, mean, std_error):\n",
    "    t = np.linspace(mean - 4*std_error, mean + 4*std_error, num=250)\n",
    "    \n",
    "    critical_value_left = distribution_0.ppf(.05)\n",
    "\n",
    "    ax.axvline(critical_value_left, color=\"grey\", linestyle=\"--\")\n",
    "    #ax.axvline(critical_value_right, color=\"grey\", linestyle=\"--\")\n",
    "\n",
    "    #tpos = t[t >= critical_value_right]\n",
    "    #ax.fill_between(tpos, 0, ha_dist.pdf(tpos), \n",
    "                    #color=color_cycle[1], alpha=0.2, label=r\"$\\alpha$\")\n",
    "\n",
    "    tneg = t[t <= critical_value_left]\n",
    "    ax.fill_between(tneg, 0, distribution_a.pdf(tneg), \n",
    "                    color='orange', alpha=0.2, label=\"Power\")"
   ]
  },
  {
   "cell_type": "code",
   "execution_count": null,
   "metadata": {},
   "outputs": [],
   "source": [
    "fig, ax = plt.subplots(figsize=(14,10))\n",
    "plot_distribution(ax, washington_pre_dist, wash_ave_pre, \n",
    "                  wash_std_error_pre, 'Washington H0')\n",
    "plot_distribution(ax, washington_alt, wash_ave_pre*0.7, \n",
    "                  wash_std_error_pre, 'Washington Alt')\n",
    "plot_power_reigons(ax, washington_pre_dist, washington_alt, \n",
    "                   wash_ave_pre*0.7, wash_std_error_pre)\n",
    "generate_labels_dist(ax)"
   ]
  },
  {
   "cell_type": "code",
   "execution_count": null,
   "metadata": {},
   "outputs": [],
   "source": [
    "def compute_power_one_tailed(distribution_0, distribution_a):\n",
    "    \"\"\"Compute the statistical power of a standard one-tailed z-test.\n",
    "\n",
    "    Parameters\n",
    "    ----------\n",
    "\n",
    "    n: int\n",
    "      Sample size.  Must be a positive number.\n",
    "\n",
    "    sigma: float\n",
    "      Population standard deviation.  Must be a positive number.\n",
    "\n",
    "    alpha: float\n",
    "      Significance level.  Must be between zero and one.\n",
    "\n",
    "    mu0: float\n",
    "      Assumed population mean under the null hypothesis.\n",
    "\n",
    "    mua: float\n",
    "      Assumed population mean under the alternate hypothesis.\n",
    "    \"\"\"\n",
    "    critical_value_left = distribution_0.ppf(.05)\n",
    "    power = distribution_a.cdf(critical_value_left)\n",
    "    \n",
    "    return power"
   ]
  },
  {
   "cell_type": "code",
   "execution_count": null,
   "metadata": {},
   "outputs": [],
   "source": [
    "wash_power = compute_power_one_tailed(washington_pre_dist,washington_alt)"
   ]
  },
  {
   "cell_type": "code",
   "execution_count": null,
   "metadata": {},
   "outputs": [],
   "source": [
    "print(\"Power to detect effect: {:2.2f}\".format(wash_power))"
   ]
  },
  {
   "cell_type": "markdown",
   "metadata": {},
   "source": [
    "There is a 76% chance we will detect a difference of 30%, when such a difference actually exists."
   ]
  }
 ],
 "metadata": {
  "kernelspec": {
   "display_name": "Python 3",
   "language": "python",
   "name": "python3"
  },
  "language_info": {
   "codemirror_mode": {
    "name": "ipython",
    "version": 3
   },
   "file_extension": ".py",
   "mimetype": "text/x-python",
   "name": "python",
   "nbconvert_exporter": "python",
   "pygments_lexer": "ipython3",
   "version": "3.7.4"
  }
 },
 "nbformat": 4,
 "nbformat_minor": 4
}
